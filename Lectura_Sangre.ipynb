{
  "cells": [
    {
      "cell_type": "markdown",
      "source": [
        "**Integrantes:**\n",
        "*   Andrés Felipe Sandoval Salazar  20191167010\n",
        "*   Iván Javier Parra Espejo        20191167013\n",
        "*   María Paula Martínez Huertas    20191167025\n",
        "*   Yeimy Lorena Lozano Clavijo     20191167048\n",
        "\n"
      ],
      "metadata": {
        "id": "nnI6sM6fYaP7"
      }
    },
    {
      "cell_type": "markdown",
      "metadata": {
        "id": "47hixA4RC5R2"
      },
      "source": [
        "# Dar vida: predecir las donaciones de sangre\n"
      ]
    },
    {
      "cell_type": "markdown",
      "metadata": {
        "id": "xPPiX9vYDHG9"
      },
      "source": [
        "Dar vida parece ser imposible, pero no es así. Todos en el mundo tenemos la oportunidad de hacerlo, donar sangre es una opción. Al día son millones las personas que esperan algunos litros de sangre para salvar su vida. La alta demanda de sangre exige que la recolección sea de una manera amplia. Hoy en día la única manera de obtener este líquido vital es a través de la donación de las personas. Se requiere de un número significativo de donantes para cubrir esta necesidad. Sin embargo, no es suficiente con esto, es importante que las personas que han donado sigan ejerciendo esta práctica.\n",
        "\n",
        "En este proyecto, se trabajará con datos recopilados de la base de datos de donantes del Centro de servicios de transfusión de sangre en la ciudad de Hsin-Chu en Taiwán. El centro pasa su autobús de servicio de transfusión de sangre a una universidad en la ciudad para recolectar la sangre donada aproximadamente cada tres meses. El conjunto de datos, obtenido del repositorio de aprendizaje automático de UCI, consta de una muestra aleatoria de 748 donantes. El objetivo será predecir si una persona donará dentro de un período de tiempo determinado."
      ]
    },
    {
      "cell_type": "markdown",
      "metadata": {
        "id": "jGtVd825DNEF"
      },
      "source": [
        "Para empezar con el desarrollo del proyecto se importarán las siguientes librerías:\n",
        "*   **Pandas:** Librería empleada para manejar DataFrame y manipulación de datos. Se importa usualmente con el alias pd de la siguiente manera: `import pandas as pd `\n",
        "*   **Numpy:** Librería usada para manipular arreglos. Se importa usualmente con el alias np de la siguiente manera: `import numpy as np`\n",
        "*   **Matplotlib:** Librería para realizar gráficos, en particular usaremos el método pyplot que facilita la creación de estos. Se importa usualmente con el alias plot de la siguiente manera: `import matplotlib.pyplot as plot`\n",
        "*   **Seaborn:** Librería para realizar gráficos estadísticos y visualización de datos. Se importa usualmente con el alias sbn de la siguiente manera: `import seaborn as sbn`\n",
        "\n"
      ]
    },
    {
      "cell_type": "code",
      "execution_count": null,
      "metadata": {
        "id": "9naaq7ia481e"
      },
      "outputs": [],
      "source": [
        "# Dependencias Generales\n",
        "import numpy as np \n",
        "import pandas as pd\n",
        "import matplotlib.pyplot as plot\n",
        "import seaborn as sns"
      ]
    },
    {
      "cell_type": "markdown",
      "metadata": {
        "id": "sv6KV-iIEFG8"
      },
      "source": [
        "La lectura del archivo se realizará con el comando: \n",
        "\n",
        "```\n",
        "pd.read_cvs(\"Nombre de mi archivo csv.csv\")\n",
        "```\n",
        "El *pd* es el alias que se le asigna a la librería pandas. *read_csv* es el método que permite la lectura del archivo.\n",
        "\n"
      ]
    },
    {
      "cell_type": "code",
      "execution_count": null,
      "metadata": {
        "id": "qxKVlmRy5MK1"
      },
      "outputs": [],
      "source": [
        "# Se obtiene el archivo del repositorio.\n",
        "url=\"https://raw.githubusercontent.com/Raspiani/Give-Life-Predict-Blood-Donations/master/datasets/transfusion.data\" \n",
        "# Lectura del DataFrame.\n",
        "data = pd.read_csv(url,lineterminator='\\r')"
      ]
    },
    {
      "cell_type": "code",
      "source": [
        "data.head()\n"
      ],
      "metadata": {
        "colab": {
          "base_uri": "https://localhost:8080/"
        },
        "id": "7XMLp6ljer-W",
        "outputId": "7a0aaea5-6a6b-4ef5-d582-8d78070a6bd7"
      },
      "execution_count": null,
      "outputs": [
        {
          "output_type": "execute_result",
          "data": {
            "text/plain": [
              "   Recency (months)  Frequency (times)  Monetary (c.c. blood)  Time (months)  \\\n",
              "0                 2                 50                  12500             98   \n",
              "1                 0                 13                   3250             28   \n",
              "2                 1                 16                   4000             35   \n",
              "3                 2                 20                   5000             45   \n",
              "4                 1                 24                   6000             77   \n",
              "\n",
              "   whether he/she donated blood in March 2007  \n",
              "0                                           1  \n",
              "1                                           1  \n",
              "2                                           1  \n",
              "3                                           1  \n",
              "4                                           0  "
            ],
            "text/html": [
              "\n",
              "  <div id=\"df-77f4725e-1f1b-4317-acb2-b2db43048d1c\">\n",
              "    <div class=\"colab-df-container\">\n",
              "      <div>\n",
              "<style scoped>\n",
              "    .dataframe tbody tr th:only-of-type {\n",
              "        vertical-align: middle;\n",
              "    }\n",
              "\n",
              "    .dataframe tbody tr th {\n",
              "        vertical-align: top;\n",
              "    }\n",
              "\n",
              "    .dataframe thead th {\n",
              "        text-align: right;\n",
              "    }\n",
              "</style>\n",
              "<table border=\"1\" class=\"dataframe\">\n",
              "  <thead>\n",
              "    <tr style=\"text-align: right;\">\n",
              "      <th></th>\n",
              "      <th>Recency (months)</th>\n",
              "      <th>Frequency (times)</th>\n",
              "      <th>Monetary (c.c. blood)</th>\n",
              "      <th>Time (months)</th>\n",
              "      <th>whether he/she donated blood in March 2007</th>\n",
              "    </tr>\n",
              "  </thead>\n",
              "  <tbody>\n",
              "    <tr>\n",
              "      <th>0</th>\n",
              "      <td>2</td>\n",
              "      <td>50</td>\n",
              "      <td>12500</td>\n",
              "      <td>98</td>\n",
              "      <td>1</td>\n",
              "    </tr>\n",
              "    <tr>\n",
              "      <th>1</th>\n",
              "      <td>0</td>\n",
              "      <td>13</td>\n",
              "      <td>3250</td>\n",
              "      <td>28</td>\n",
              "      <td>1</td>\n",
              "    </tr>\n",
              "    <tr>\n",
              "      <th>2</th>\n",
              "      <td>1</td>\n",
              "      <td>16</td>\n",
              "      <td>4000</td>\n",
              "      <td>35</td>\n",
              "      <td>1</td>\n",
              "    </tr>\n",
              "    <tr>\n",
              "      <th>3</th>\n",
              "      <td>2</td>\n",
              "      <td>20</td>\n",
              "      <td>5000</td>\n",
              "      <td>45</td>\n",
              "      <td>1</td>\n",
              "    </tr>\n",
              "    <tr>\n",
              "      <th>4</th>\n",
              "      <td>1</td>\n",
              "      <td>24</td>\n",
              "      <td>6000</td>\n",
              "      <td>77</td>\n",
              "      <td>0</td>\n",
              "    </tr>\n",
              "  </tbody>\n",
              "</table>\n",
              "</div>\n",
              "      <button class=\"colab-df-convert\" onclick=\"convertToInteractive('df-77f4725e-1f1b-4317-acb2-b2db43048d1c')\"\n",
              "              title=\"Convert this dataframe to an interactive table.\"\n",
              "              style=\"display:none;\">\n",
              "        \n",
              "  <svg xmlns=\"http://www.w3.org/2000/svg\" height=\"24px\"viewBox=\"0 0 24 24\"\n",
              "       width=\"24px\">\n",
              "    <path d=\"M0 0h24v24H0V0z\" fill=\"none\"/>\n",
              "    <path d=\"M18.56 5.44l.94 2.06.94-2.06 2.06-.94-2.06-.94-.94-2.06-.94 2.06-2.06.94zm-11 1L8.5 8.5l.94-2.06 2.06-.94-2.06-.94L8.5 2.5l-.94 2.06-2.06.94zm10 10l.94 2.06.94-2.06 2.06-.94-2.06-.94-.94-2.06-.94 2.06-2.06.94z\"/><path d=\"M17.41 7.96l-1.37-1.37c-.4-.4-.92-.59-1.43-.59-.52 0-1.04.2-1.43.59L10.3 9.45l-7.72 7.72c-.78.78-.78 2.05 0 2.83L4 21.41c.39.39.9.59 1.41.59.51 0 1.02-.2 1.41-.59l7.78-7.78 2.81-2.81c.8-.78.8-2.07 0-2.86zM5.41 20L4 18.59l7.72-7.72 1.47 1.35L5.41 20z\"/>\n",
              "  </svg>\n",
              "      </button>\n",
              "      \n",
              "  <style>\n",
              "    .colab-df-container {\n",
              "      display:flex;\n",
              "      flex-wrap:wrap;\n",
              "      gap: 12px;\n",
              "    }\n",
              "\n",
              "    .colab-df-convert {\n",
              "      background-color: #E8F0FE;\n",
              "      border: none;\n",
              "      border-radius: 50%;\n",
              "      cursor: pointer;\n",
              "      display: none;\n",
              "      fill: #1967D2;\n",
              "      height: 32px;\n",
              "      padding: 0 0 0 0;\n",
              "      width: 32px;\n",
              "    }\n",
              "\n",
              "    .colab-df-convert:hover {\n",
              "      background-color: #E2EBFA;\n",
              "      box-shadow: 0px 1px 2px rgba(60, 64, 67, 0.3), 0px 1px 3px 1px rgba(60, 64, 67, 0.15);\n",
              "      fill: #174EA6;\n",
              "    }\n",
              "\n",
              "    [theme=dark] .colab-df-convert {\n",
              "      background-color: #3B4455;\n",
              "      fill: #D2E3FC;\n",
              "    }\n",
              "\n",
              "    [theme=dark] .colab-df-convert:hover {\n",
              "      background-color: #434B5C;\n",
              "      box-shadow: 0px 1px 3px 1px rgba(0, 0, 0, 0.15);\n",
              "      filter: drop-shadow(0px 1px 2px rgba(0, 0, 0, 0.3));\n",
              "      fill: #FFFFFF;\n",
              "    }\n",
              "  </style>\n",
              "\n",
              "      <script>\n",
              "        const buttonEl =\n",
              "          document.querySelector('#df-77f4725e-1f1b-4317-acb2-b2db43048d1c button.colab-df-convert');\n",
              "        buttonEl.style.display =\n",
              "          google.colab.kernel.accessAllowed ? 'block' : 'none';\n",
              "\n",
              "        async function convertToInteractive(key) {\n",
              "          const element = document.querySelector('#df-77f4725e-1f1b-4317-acb2-b2db43048d1c');\n",
              "          const dataTable =\n",
              "            await google.colab.kernel.invokeFunction('convertToInteractive',\n",
              "                                                     [key], {});\n",
              "          if (!dataTable) return;\n",
              "\n",
              "          const docLinkHtml = 'Like what you see? Visit the ' +\n",
              "            '<a target=\"_blank\" href=https://colab.research.google.com/notebooks/data_table.ipynb>data table notebook</a>'\n",
              "            + ' to learn more about interactive tables.';\n",
              "          element.innerHTML = '';\n",
              "          dataTable['output_type'] = 'display_data';\n",
              "          await google.colab.output.renderOutput(dataTable, element);\n",
              "          const docLink = document.createElement('div');\n",
              "          docLink.innerHTML = docLinkHtml;\n",
              "          element.appendChild(docLink);\n",
              "        }\n",
              "      </script>\n",
              "    </div>\n",
              "  </div>\n",
              "  "
            ]
          },
          "metadata": {},
          "execution_count": 348
        }
      ]
    },
    {
      "cell_type": "markdown",
      "metadata": {
        "id": "1zWlN0Qm9LC1"
      },
      "source": [
        "##Análisis Variables\n",
        "\n",
        "\n"
      ]
    },
    {
      "cell_type": "markdown",
      "metadata": {
        "id": "skHhEPl_FK7D"
      },
      "source": [
        "El estudio de la base de datos hará uso de una variación del modelo RFM. Es usado en el marketing para:\n",
        "\n",
        "1.   Aumentar la cifra de ingresos de la marca.\n",
        "2.   Realizar segmentación de clientes como técnica para conocer su comportamiento.\n",
        "3.   Concretar quienes son los mejores clientes.\n",
        "4.   Conocer la tasa de abandono.\n",
        "\n",
        "Este realiza una segmentación de los clientes teniendo en cuenta las variables RFM:\n",
        "\n",
        "\n",
        "* **Recencia:**  ¿Cuándo fue la última vez qué el cliente hizo una compra?\n",
        "*  **Frecuencia:** Define el número de interacciones del cliente con la marca en un período determinado de tiempo.\n",
        "*  **Valor monetario:** Refleja la cantidad que se ha gastado el cliente en las compras.\n",
        "\n",
        "De modo que aquí tendremos el modelo aplicado y variado de la siguiente manera:\n",
        "\n",
        "\n",
        "1.   Los clientes serán los donantes.\n",
        "2.   Segmentar los donates para ver el compartimiento respecto a su próxima donación.\n",
        "3.   Preguntar: ¿cuándo fue la última vez que el donante hizo su última donación?\n",
        "  *   Primera variable R (Recency): Meses desde la última donación.\n",
        "4.   Analizar la cantidad de veces que ha interactuado con las campañas.\n",
        "  *  Segunda varaible F (Frecuencia): Número total de donaciones.\n",
        "5.   Calcular la cantidad de sangre que ha donado en total. \n",
        "  *  Tercera variable M (Monetario): Total de sangre donada en cc.\n",
        "6.  Verificar el tiempo (meses) transcurridos desde su primera donación.\n",
        "  *  Cuarta variable T (Tiempo): Meses desde la primera donación.\n",
        "7.   Realizar una predicción con base a la segmetación de los datos y las variables anteriormente mencionadas.\n",
        "  *  Quinta Variable P (Predicción): Variable booleana a estudiar. \n",
        "        *   1 si la persona donó sangre en marzo del 2007.\n",
        "        *   0 si la persona no donó sangre en marzo del 2007."
      ]
    },
    {
      "cell_type": "markdown",
      "metadata": {
        "id": "IceJ7x0hJ-N8"
      },
      "source": [
        "Con el comando *data.info( )* se obtendrá información sobre la base de datos."
      ]
    },
    {
      "cell_type": "code",
      "execution_count": null,
      "metadata": {
        "colab": {
          "base_uri": "https://localhost:8080/"
        },
        "id": "zpMn59j789T9",
        "outputId": "cf2be178-faba-470d-814f-db4ca092033a"
      },
      "outputs": [
        {
          "output_type": "stream",
          "name": "stdout",
          "text": [
            "<class 'pandas.core.frame.DataFrame'>\n",
            "RangeIndex: 748 entries, 0 to 747\n",
            "Data columns (total 5 columns):\n",
            " #   Column                                      Non-Null Count  Dtype\n",
            "---  ------                                      --------------  -----\n",
            " 0   Recency (months)                            748 non-null    int64\n",
            " 1   Frequency (times)                           748 non-null    int64\n",
            " 2   Monetary (c.c. blood)                       748 non-null    int64\n",
            " 3   Time (months)                               748 non-null    int64\n",
            " 4   whether he/she donated blood in March 2007  748 non-null    int64\n",
            "dtypes: int64(5)\n",
            "memory usage: 29.3 KB\n"
          ]
        }
      ],
      "source": [
        "data.info()"
      ]
    },
    {
      "cell_type": "markdown",
      "metadata": {
        "id": "dfRAau2hJuVE"
      },
      "source": [
        "Las variables son todas de tipo entero. Sin embargo, la última variable debe ser de tipo booleana. Debe interpretarse y analizarse como un atributo cualitativo asimétrico: 1 si donó sangre, 0 si no.\n",
        "\n",
        "Para corregir esto se emplea el siguiente comando:\n",
        "\n",
        "```\n",
        "data['variable que deseo cambiar'] = data['variable que deseo cambiar'].astype('el tipo que quiero que sea')\n",
        "```\n",
        "entonces el *data[ ' ' ].* indicará la columna a modificar. El método  *astype* ejecuta el cambio de tipo de dato.\n",
        "\n",
        "\n",
        "\n",
        " \n",
        "\n",
        "\n"
      ]
    },
    {
      "cell_type": "code",
      "execution_count": null,
      "metadata": {
        "id": "K4QIey1m1VSO"
      },
      "outputs": [],
      "source": [
        "data['whether he/she donated blood in March 2007'] = data['whether he/she donated blood in March 2007'].astype('boolean')"
      ]
    },
    {
      "cell_type": "code",
      "execution_count": null,
      "metadata": {
        "colab": {
          "base_uri": "https://localhost:8080/"
        },
        "id": "ZsnoTqhP6NR4",
        "outputId": "022e6e61-c927-40d1-d5f2-5574d6d7f214"
      },
      "outputs": [
        {
          "output_type": "stream",
          "name": "stdout",
          "text": [
            "<class 'pandas.core.frame.DataFrame'>\n",
            "RangeIndex: 748 entries, 0 to 747\n",
            "Data columns (total 5 columns):\n",
            " #   Column                                      Non-Null Count  Dtype  \n",
            "---  ------                                      --------------  -----  \n",
            " 0   Recency (months)                            748 non-null    int64  \n",
            " 1   Frequency (times)                           748 non-null    int64  \n",
            " 2   Monetary (c.c. blood)                       748 non-null    int64  \n",
            " 3   Time (months)                               748 non-null    int64  \n",
            " 4   whether he/she donated blood in March 2007  748 non-null    boolean\n",
            "dtypes: boolean(1), int64(4)\n",
            "memory usage: 25.0 KB\n"
          ]
        }
      ],
      "source": [
        "data.info()"
      ]
    },
    {
      "cell_type": "markdown",
      "metadata": {
        "id": "WNXaCeZs9fvN"
      },
      "source": [
        "##Renombrar las columnas del DataFrame\n",
        "\n"
      ]
    },
    {
      "cell_type": "markdown",
      "source": [
        "El método *rename* permite renombrar las columnas del *DataFrame* mediante un diccionario. La llave indica el nombre predeterminado de las columnnas; y el valor, su nueva asignación."
      ],
      "metadata": {
        "id": "olFAMTLplRJW"
      }
    },
    {
      "cell_type": "code",
      "execution_count": null,
      "metadata": {
        "id": "jaecnuhg9laV"
      },
      "outputs": [],
      "source": [
        "data.rename(\n",
        "    columns={'Recency (months)':'Recency',\n",
        "             'Frequency (times)':'Frequency',\n",
        "             'Monetary (c.c. blood)': 'Monetary', \n",
        "             'Time (months)' : 'Time',\n",
        "             'whether he/she donated blood in March 2007': 'Donated'},\n",
        "    inplace=True)"
      ]
    },
    {
      "cell_type": "code",
      "execution_count": null,
      "metadata": {
        "colab": {
          "base_uri": "https://localhost:8080/"
        },
        "id": "bdqDRlzl5-ba",
        "outputId": "64e621d9-7290-4139-8c9c-5db9b9cec8cb"
      },
      "outputs": [
        {
          "output_type": "execute_result",
          "data": {
            "text/plain": [
              "     Recency  Frequency  Monetary  Time  Donated\n",
              "0          2         50     12500    98     True\n",
              "1          0         13      3250    28     True\n",
              "2          1         16      4000    35     True\n",
              "3          2         20      5000    45     True\n",
              "4          1         24      6000    77    False\n",
              "..       ...        ...       ...   ...      ...\n",
              "743       23          2       500    38    False\n",
              "744       21          2       500    52    False\n",
              "745       23          3       750    62    False\n",
              "746       39          1       250    39    False\n",
              "747       72          1       250    72    False\n",
              "\n",
              "[748 rows x 5 columns]"
            ],
            "text/html": [
              "\n",
              "  <div id=\"df-56cfdb9e-a882-4edd-aca3-e8de8e384f28\">\n",
              "    <div class=\"colab-df-container\">\n",
              "      <div>\n",
              "<style scoped>\n",
              "    .dataframe tbody tr th:only-of-type {\n",
              "        vertical-align: middle;\n",
              "    }\n",
              "\n",
              "    .dataframe tbody tr th {\n",
              "        vertical-align: top;\n",
              "    }\n",
              "\n",
              "    .dataframe thead th {\n",
              "        text-align: right;\n",
              "    }\n",
              "</style>\n",
              "<table border=\"1\" class=\"dataframe\">\n",
              "  <thead>\n",
              "    <tr style=\"text-align: right;\">\n",
              "      <th></th>\n",
              "      <th>Recency</th>\n",
              "      <th>Frequency</th>\n",
              "      <th>Monetary</th>\n",
              "      <th>Time</th>\n",
              "      <th>Donated</th>\n",
              "    </tr>\n",
              "  </thead>\n",
              "  <tbody>\n",
              "    <tr>\n",
              "      <th>0</th>\n",
              "      <td>2</td>\n",
              "      <td>50</td>\n",
              "      <td>12500</td>\n",
              "      <td>98</td>\n",
              "      <td>True</td>\n",
              "    </tr>\n",
              "    <tr>\n",
              "      <th>1</th>\n",
              "      <td>0</td>\n",
              "      <td>13</td>\n",
              "      <td>3250</td>\n",
              "      <td>28</td>\n",
              "      <td>True</td>\n",
              "    </tr>\n",
              "    <tr>\n",
              "      <th>2</th>\n",
              "      <td>1</td>\n",
              "      <td>16</td>\n",
              "      <td>4000</td>\n",
              "      <td>35</td>\n",
              "      <td>True</td>\n",
              "    </tr>\n",
              "    <tr>\n",
              "      <th>3</th>\n",
              "      <td>2</td>\n",
              "      <td>20</td>\n",
              "      <td>5000</td>\n",
              "      <td>45</td>\n",
              "      <td>True</td>\n",
              "    </tr>\n",
              "    <tr>\n",
              "      <th>4</th>\n",
              "      <td>1</td>\n",
              "      <td>24</td>\n",
              "      <td>6000</td>\n",
              "      <td>77</td>\n",
              "      <td>False</td>\n",
              "    </tr>\n",
              "    <tr>\n",
              "      <th>...</th>\n",
              "      <td>...</td>\n",
              "      <td>...</td>\n",
              "      <td>...</td>\n",
              "      <td>...</td>\n",
              "      <td>...</td>\n",
              "    </tr>\n",
              "    <tr>\n",
              "      <th>743</th>\n",
              "      <td>23</td>\n",
              "      <td>2</td>\n",
              "      <td>500</td>\n",
              "      <td>38</td>\n",
              "      <td>False</td>\n",
              "    </tr>\n",
              "    <tr>\n",
              "      <th>744</th>\n",
              "      <td>21</td>\n",
              "      <td>2</td>\n",
              "      <td>500</td>\n",
              "      <td>52</td>\n",
              "      <td>False</td>\n",
              "    </tr>\n",
              "    <tr>\n",
              "      <th>745</th>\n",
              "      <td>23</td>\n",
              "      <td>3</td>\n",
              "      <td>750</td>\n",
              "      <td>62</td>\n",
              "      <td>False</td>\n",
              "    </tr>\n",
              "    <tr>\n",
              "      <th>746</th>\n",
              "      <td>39</td>\n",
              "      <td>1</td>\n",
              "      <td>250</td>\n",
              "      <td>39</td>\n",
              "      <td>False</td>\n",
              "    </tr>\n",
              "    <tr>\n",
              "      <th>747</th>\n",
              "      <td>72</td>\n",
              "      <td>1</td>\n",
              "      <td>250</td>\n",
              "      <td>72</td>\n",
              "      <td>False</td>\n",
              "    </tr>\n",
              "  </tbody>\n",
              "</table>\n",
              "<p>748 rows × 5 columns</p>\n",
              "</div>\n",
              "      <button class=\"colab-df-convert\" onclick=\"convertToInteractive('df-56cfdb9e-a882-4edd-aca3-e8de8e384f28')\"\n",
              "              title=\"Convert this dataframe to an interactive table.\"\n",
              "              style=\"display:none;\">\n",
              "        \n",
              "  <svg xmlns=\"http://www.w3.org/2000/svg\" height=\"24px\"viewBox=\"0 0 24 24\"\n",
              "       width=\"24px\">\n",
              "    <path d=\"M0 0h24v24H0V0z\" fill=\"none\"/>\n",
              "    <path d=\"M18.56 5.44l.94 2.06.94-2.06 2.06-.94-2.06-.94-.94-2.06-.94 2.06-2.06.94zm-11 1L8.5 8.5l.94-2.06 2.06-.94-2.06-.94L8.5 2.5l-.94 2.06-2.06.94zm10 10l.94 2.06.94-2.06 2.06-.94-2.06-.94-.94-2.06-.94 2.06-2.06.94z\"/><path d=\"M17.41 7.96l-1.37-1.37c-.4-.4-.92-.59-1.43-.59-.52 0-1.04.2-1.43.59L10.3 9.45l-7.72 7.72c-.78.78-.78 2.05 0 2.83L4 21.41c.39.39.9.59 1.41.59.51 0 1.02-.2 1.41-.59l7.78-7.78 2.81-2.81c.8-.78.8-2.07 0-2.86zM5.41 20L4 18.59l7.72-7.72 1.47 1.35L5.41 20z\"/>\n",
              "  </svg>\n",
              "      </button>\n",
              "      \n",
              "  <style>\n",
              "    .colab-df-container {\n",
              "      display:flex;\n",
              "      flex-wrap:wrap;\n",
              "      gap: 12px;\n",
              "    }\n",
              "\n",
              "    .colab-df-convert {\n",
              "      background-color: #E8F0FE;\n",
              "      border: none;\n",
              "      border-radius: 50%;\n",
              "      cursor: pointer;\n",
              "      display: none;\n",
              "      fill: #1967D2;\n",
              "      height: 32px;\n",
              "      padding: 0 0 0 0;\n",
              "      width: 32px;\n",
              "    }\n",
              "\n",
              "    .colab-df-convert:hover {\n",
              "      background-color: #E2EBFA;\n",
              "      box-shadow: 0px 1px 2px rgba(60, 64, 67, 0.3), 0px 1px 3px 1px rgba(60, 64, 67, 0.15);\n",
              "      fill: #174EA6;\n",
              "    }\n",
              "\n",
              "    [theme=dark] .colab-df-convert {\n",
              "      background-color: #3B4455;\n",
              "      fill: #D2E3FC;\n",
              "    }\n",
              "\n",
              "    [theme=dark] .colab-df-convert:hover {\n",
              "      background-color: #434B5C;\n",
              "      box-shadow: 0px 1px 3px 1px rgba(0, 0, 0, 0.15);\n",
              "      filter: drop-shadow(0px 1px 2px rgba(0, 0, 0, 0.3));\n",
              "      fill: #FFFFFF;\n",
              "    }\n",
              "  </style>\n",
              "\n",
              "      <script>\n",
              "        const buttonEl =\n",
              "          document.querySelector('#df-56cfdb9e-a882-4edd-aca3-e8de8e384f28 button.colab-df-convert');\n",
              "        buttonEl.style.display =\n",
              "          google.colab.kernel.accessAllowed ? 'block' : 'none';\n",
              "\n",
              "        async function convertToInteractive(key) {\n",
              "          const element = document.querySelector('#df-56cfdb9e-a882-4edd-aca3-e8de8e384f28');\n",
              "          const dataTable =\n",
              "            await google.colab.kernel.invokeFunction('convertToInteractive',\n",
              "                                                     [key], {});\n",
              "          if (!dataTable) return;\n",
              "\n",
              "          const docLinkHtml = 'Like what you see? Visit the ' +\n",
              "            '<a target=\"_blank\" href=https://colab.research.google.com/notebooks/data_table.ipynb>data table notebook</a>'\n",
              "            + ' to learn more about interactive tables.';\n",
              "          element.innerHTML = '';\n",
              "          dataTable['output_type'] = 'display_data';\n",
              "          await google.colab.output.renderOutput(dataTable, element);\n",
              "          const docLink = document.createElement('div');\n",
              "          docLink.innerHTML = docLinkHtml;\n",
              "          element.appendChild(docLink);\n",
              "        }\n",
              "      </script>\n",
              "    </div>\n",
              "  </div>\n",
              "  "
            ]
          },
          "metadata": {},
          "execution_count": 353
        }
      ],
      "source": [
        "data"
      ]
    },
    {
      "cell_type": "markdown",
      "metadata": {
        "id": "Tgzke2i66nxV"
      },
      "source": [
        "#Estadística Descriptiva"
      ]
    },
    {
      "cell_type": "markdown",
      "metadata": {
        "id": "5teBQrKDGjuU"
      },
      "source": [
        "Se realizará un análisis de las medidas de tendecia central y de dispersión para cada una de las variables mencionadas."
      ]
    },
    {
      "cell_type": "markdown",
      "metadata": {
        "id": "4kCWIwYr7SYt"
      },
      "source": [
        "###Variable Recency"
      ]
    },
    {
      "cell_type": "markdown",
      "metadata": {
        "id": "1wGJQuUx7cWB"
      },
      "source": [
        "Para obtener una descripción estadística de la varaible Recency, se emplean los siguentes comandos:\n",
        "\n",
        "\n",
        "\n",
        "\n",
        "\n",
        " \n",
        "\n"
      ]
    },
    {
      "cell_type": "markdown",
      "source": [
        "```\n",
        "print(data[\"Recency\"].describe())\n",
        "print('median=   '+ str(data['Recency'].median()))\n",
        "print('mode=     ' + str(data['Recency'].mode()[0]))\n",
        "```\n",
        "\n",
        "Aquí el `data[ ' ' ]` es la variable que se quiere describir. \n",
        "\n",
        "El método `describe ( )` obtiene la cantidad de elementos almacenados, la media, la desviación estándar, el mínimo, los cuartiles y el máximo de los datos en la columna Recency.\n",
        "\n",
        "El método `median ( )` obtiene la mediana.\n",
        "\n",
        "El método `mode ( )[ 0 ]` obtiene la moda."
      ],
      "metadata": {
        "id": "UUX6fiHLaOCK"
      }
    },
    {
      "cell_type": "code",
      "execution_count": null,
      "metadata": {
        "colab": {
          "base_uri": "https://localhost:8080/"
        },
        "id": "CnEfyII-69aE",
        "outputId": "8f15b034-480b-4e09-dc2f-471a89ba9b57"
      },
      "outputs": [
        {
          "output_type": "stream",
          "name": "stdout",
          "text": [
            "count    748.000000\n",
            "mean       9.506684\n",
            "std        8.095396\n",
            "min        0.000000\n",
            "25%        2.750000\n",
            "50%        7.000000\n",
            "75%       14.000000\n",
            "max       74.000000\n",
            "Name: Recency, dtype: float64\n",
            "median=   7.0\n",
            "mode=     2\n"
          ]
        }
      ],
      "source": [
        "print(data[\"Recency\"].describe())\n",
        "print('median=   '+ str(data['Recency'].median()))\n",
        "print('mode=     ' + str(data['Recency'].mode()[0]))"
      ]
    },
    {
      "cell_type": "markdown",
      "source": [
        "* El tamaño de la muestra es $748$ datos no nulos.\n",
        "* El donante con menor cantidad de meses realizó su última donación hace $0$ meses y el donante con mayor cantidad de meses realizó su última donación hace $74$ meses. \n",
        "\n",
        "La distribución de la variable Recency permite ver gráficamente los siguientes datos:\n",
        "* La moda de Recency es de $2$ meses. En otras palabras la mayoría de los donantes realizó su última donación hace $2$ meses.\n",
        "* La media de Recency de los donantes es de $9.506684$. Lo que quiere decir que en promedio cada donante donó por última vez hace $9$ meses.\n",
        "* La mediana de Recency es de $7$ meses. Este valor dividirá los datos en la mitad."
      ],
      "metadata": {
        "id": "fsXm08fgAqTt"
      }
    },
    {
      "cell_type": "code",
      "source": [
        "plot.figure(figsize=(20,7.5)) #tamaño de la figura\n",
        "data['Recency'].plot.kde(label='Curva de distribución',color='black',grid=True) #Gráfica la distribución de la variable Recency.\n",
        "plot.axvline(x=data['Recency'].mean(), ymin=0, ymax=1,label='Media',color='blue') #Recta que representa la media en la distribución. \n",
        "plot.axvline(x=data['Recency'].mode()[0], ymin=0, ymax=1,label='Moda',color='red')#Recta que representa la moda en la distribución.\n",
        "plot.axvline(x=data['Recency'].median(), ymin=0, ymax=1,label='Mediana',color='green') #Recta que representa la mediana en la distribución.\n",
        "plot.title('Curva de distribución de la variable Recency')\n",
        "plot.text(data['Recency'].mean()+1,0.05,round(data['Recency'].mean(),1),color=\"blue\",fontsize=16,rotation=0) #Valor de la media.\n",
        "plot.text(data['Recency'].mode()[0]+1,0.03,data['Recency'].mode()[0],color=\"red\",fontsize=16,rotation=0) #Valor de la moda.\n",
        "plot.text(data['Recency'].median()-4,0.01,round(data['Recency'].median(),3),color=\"green\",fontsize=16,rotation=0) #Valor de la mediana.\n",
        "plot.ylabel('Densidad')\n",
        "plot.xticks(np.arange(0,76,5)) # Escala del eje x.\n",
        "plot.legend() # Recuadro de etiquetas para identificar cada elemento del gráfico.\n",
        "plot.show() # Muestra el gráfico."
      ],
      "metadata": {
        "colab": {
          "base_uri": "https://localhost:8080/"
        },
        "id": "iTdht34YrO2e",
        "outputId": "f796569f-6473-4833-b032-9754ade2e8d4"
      },
      "execution_count": null,
      "outputs": [
        {
          "output_type": "display_data",
          "data": {
            "text/plain": [
              "<Figure size 1440x540 with 1 Axes>"
            ],
            "image/png": "[encoded data removed]"
          },
          "metadata": {
            "needs_background": "light"
          }
        }
      ]
    },
    {
      "cell_type": "markdown",
      "source": [
        "La distribución de Recency no es normal, de modo que la desviación estándar no ofrece una información asertiva respecto a la media. Sin embargo, se puede hacer el cálculo del coeficiente de variación; el cual nos dirá  porcentualmente qué tan dispersos se encuentran los datos."
      ],
      "metadata": {
        "id": "9wbO9tZtD0RN"
      }
    },
    {
      "cell_type": "code",
      "source": [
        "#data['Recency'].std() es la desviación estandar de la variable Rencency\n",
        "#data['Recency'].mean() es la media de la variable Recency\n",
        "\n",
        "#Formula del coeficiente de variación tomandolo porcentualmente\n",
        "coef_variación= (data['Recency'].std()/data['Recency'].mean())*100  \n",
        "coef_variación"
      ],
      "metadata": {
        "colab": {
          "base_uri": "https://localhost:8080/"
        },
        "id": "QJ6jzuJ0EjOI",
        "outputId": "159748c4-acf1-4495-8142-b5d5390ba56c"
      },
      "execution_count": null,
      "outputs": [
        {
          "output_type": "execute_result",
          "data": {
            "text/plain": [
              "85.1547733821377"
            ]
          },
          "metadata": {},
          "execution_count": 356
        }
      ]
    },
    {
      "cell_type": "markdown",
      "source": [
        "Con un porcentaje de coeficiente de variación del $85.154\\%$ se afirma que los datos se encuentran altamente dispersos respecto a la media."
      ],
      "metadata": {
        "id": "pjsB1aOTFshA"
      }
    },
    {
      "cell_type": "markdown",
      "source": [
        "El diagrama de caja permite evidenciar la siguiente afirmación:\n",
        "* Una cuarta parte de los donantes realizó su última donación hace menos de $Q_1= 2.75$ meses. La mitad de los donantes realizó su última donación hace menos de $Q_2= 7$ meses, y la otra mitad hace más de $Q_2= 7$ meses. Por otra parte, las tres cuartas partes de los donantes donarón por última vez hace más de  $Q_3= 14$ meses."
      ],
      "metadata": {
        "id": "mTbS86g_jXhd"
      }
    },
    {
      "cell_type": "code",
      "source": [
        "plot.figure(figsize=(30,15)) #Área de impresión de la gráfica.\n",
        "plot.subplot(221)  #Ubicación del primer gráfico.\n",
        "plot.title(\"Diágrama de cajas de la variable Recency\")   #Título del gráfico.\n",
        "plot.xlabel('Cantidad de meses desde la última donación ')  #Nombre del eje x.\n",
        "plot.grid(True) # Activación de la cuadricula de medición.\n",
        "plot.xticks(np.arange(0,80,3)) # Escala del eje x.\n",
        "plot.boxplot(data['Recency'],vert=False,patch_artist=True); #Comando para hacer el diagráma de caja.\n",
        "\n",
        "\n",
        "plot.subplot(222)\n",
        "plot.title(\"Histográma de la variable Recency\")   #Título del gráfico.\n",
        "plot.ylabel('Cantidad de personas')  #Nombre del eje y.\n",
        "plot.xlabel('Cantidad de meses desde la última donación')  #Nombre del eje x.\n",
        "freq, bins, patches = plot.hist(data['Recency'], bins=range(0,75,1),\n",
        "          align='mid',\n",
        "          orientation='vertical',\n",
        "          color='green',ec='k')  #Comando para hacer el Histográma.\n",
        "\n",
        "# x coordinate for labels\n",
        "bin_centers = np.diff(bins)*0.5 + bins[:-1]\n",
        "\n",
        "n = 0\n",
        "for fr, x, patch in zip(freq, bin_centers, patches):\n",
        "    height = int(freq[n])\n",
        "    plot.annotate(\"{}\".format(height),\n",
        "                 xy = (x, height),             # Esquina superior izquierda de la barra de histograma\n",
        "                 xytext = (0,0.2),             # Desplazamiento de la posición de la etiqueta por encima de su barra\n",
        "                 textcoords = \"offset points\", # Compensación (en puntos) del valor *xy*\n",
        "                 ha = 'center', va = 'bottom')\n",
        "    n = n+1\n",
        "\n",
        "plot.xticks(np.arange(0,76,2)) # Escala del eje x.\n",
        "plot.yticks(np.arange(0,176,10)) # Escala del eje y.\n",
        "plot.grid(True) # Activación de la cuadrícula de medición."
      ],
      "metadata": {
        "id": "Nu3HuIYdfbxB",
        "colab": {
          "base_uri": "https://localhost:8080/"
        },
        "outputId": "ae434d52-abfc-4d5e-a791-3d0628769d65"
      },
      "execution_count": null,
      "outputs": [
        {
          "output_type": "display_data",
          "data": {
            "text/plain": [
              "<Figure size 2160x1080 with 2 Axes>"
            ],
            "image/png": "[encoded data removed]"
          },
          "metadata": {
            "needs_background": "light"
          }
        }
      ]
    },
    {
      "cell_type": "markdown",
      "source": [
        "En el diagrama de caja se observa que la media se ubica más hacia la izquierda, esto se debe a que hay una mayor concentración de donantes para esos meses. Por otra parte, después del último bigote hay unos puntos a los cuales se les denominará outlier. Estos datos son los que no se tendrán comúnmente. \n",
        "\n",
        "Comparando con el histograma se evidencia que los datos de menor frecuencia son aquellos que representan una cantidad mayor de meses.\n",
        "\n",
        "Para ver que efectivamente existen estos outliers tenemos el siguiente criterio:"
      ],
      "metadata": {
        "id": "9GsttFI8fygh"
      }
    },
    {
      "cell_type": "code",
      "execution_count": null,
      "metadata": {
        "colab": {
          "base_uri": "https://localhost:8080/"
        },
        "id": "JZ-6xGoFBedT",
        "outputId": "d1365c0b-bf93-46a9-b42b-a9d860a7630c"
      },
      "outputs": [
        {
          "output_type": "stream",
          "name": "stdout",
          "text": [
            "Bigote superior es:  30.875\n",
            "Bigote inferiór es:  -14.125\n"
          ]
        }
      ],
      "source": [
        "#se calcula el valor de los cuartiles\n",
        "Q1=data['Recency'].quantile(0.25)\n",
        "Q2=data['Recency'].quantile(0.50)\n",
        "Q3=data['Recency'].quantile(0.75)\n",
        "RI=Q3-Q1\n",
        "# Se calcula el valor del bigote superior\n",
        "BS=Q3+1.5*RI\n",
        "print('Bigote superior es: ', BS)\n",
        "# Se calcula el valor del bigote inferior\n",
        "BI=Q1-1.5*RI\n",
        "print('Bigote inferiór es: ', BI)"
      ]
    },
    {
      "cell_type": "markdown",
      "metadata": {
        "id": "G4Oy7JuBCMak"
      },
      "source": [
        "Si el valor mínimo de la variable Recency es menor que el bigote inferior entonces se presentarían outliers inferiores. En este caso el valor mínimo es $0$ meses, por lo que no existe outlier inferior y además el bigote en la gráfica tomará el valor mínimo de los datos, es decir, $0$ meses. Nótese que el bigote superior es $30.875$ pero el valor máximo es de $74$, por tanto existirán outliers superiores."
      ]
    },
    {
      "cell_type": "markdown",
      "source": [
        "Con el siguiente comando se obtiene con precisión cuales son los outliers con respecto a la variable Recency :"
      ],
      "metadata": {
        "id": "frJryDEWqVN5"
      }
    },
    {
      "cell_type": "code",
      "source": [
        "data[data['Recency']>=30.875]"
      ],
      "metadata": {
        "colab": {
          "base_uri": "https://localhost:8080/"
        },
        "id": "mJH_PrfvpwIM",
        "outputId": "b1ec2131-d446-4c63-e13b-b03650d15fc1"
      },
      "execution_count": null,
      "outputs": [
        {
          "output_type": "execute_result",
          "data": {
            "text/plain": [
              "     Recency  Frequency  Monetary  Time  Donated\n",
              "495       35          3       750    64    False\n",
              "496       38          1       250    38    False\n",
              "497       38          1       250    38    False\n",
              "498       40          1       250    40    False\n",
              "499       74          1       250    74    False\n",
              "746       39          1       250    39    False\n",
              "747       72          1       250    72    False"
            ],
            "text/html": [
              "\n",
              "  <div id=\"df-09f9029e-9000-4516-b2e0-192092f460de\">\n",
              "    <div class=\"colab-df-container\">\n",
              "      <div>\n",
              "<style scoped>\n",
              "    .dataframe tbody tr th:only-of-type {\n",
              "        vertical-align: middle;\n",
              "    }\n",
              "\n",
              "    .dataframe tbody tr th {\n",
              "        vertical-align: top;\n",
              "    }\n",
              "\n",
              "    .dataframe thead th {\n",
              "        text-align: right;\n",
              "    }\n",
              "</style>\n",
              "<table border=\"1\" class=\"dataframe\">\n",
              "  <thead>\n",
              "    <tr style=\"text-align: right;\">\n",
              "      <th></th>\n",
              "      <th>Recency</th>\n",
              "      <th>Frequency</th>\n",
              "      <th>Monetary</th>\n",
              "      <th>Time</th>\n",
              "      <th>Donated</th>\n",
              "    </tr>\n",
              "  </thead>\n",
              "  <tbody>\n",
              "    <tr>\n",
              "      <th>495</th>\n",
              "      <td>35</td>\n",
              "      <td>3</td>\n",
              "      <td>750</td>\n",
              "      <td>64</td>\n",
              "      <td>False</td>\n",
              "    </tr>\n",
              "    <tr>\n",
              "      <th>496</th>\n",
              "      <td>38</td>\n",
              "      <td>1</td>\n",
              "      <td>250</td>\n",
              "      <td>38</td>\n",
              "      <td>False</td>\n",
              "    </tr>\n",
              "    <tr>\n",
              "      <th>497</th>\n",
              "      <td>38</td>\n",
              "      <td>1</td>\n",
              "      <td>250</td>\n",
              "      <td>38</td>\n",
              "      <td>False</td>\n",
              "    </tr>\n",
              "    <tr>\n",
              "      <th>498</th>\n",
              "      <td>40</td>\n",
              "      <td>1</td>\n",
              "      <td>250</td>\n",
              "      <td>40</td>\n",
              "      <td>False</td>\n",
              "    </tr>\n",
              "    <tr>\n",
              "      <th>499</th>\n",
              "      <td>74</td>\n",
              "      <td>1</td>\n",
              "      <td>250</td>\n",
              "      <td>74</td>\n",
              "      <td>False</td>\n",
              "    </tr>\n",
              "    <tr>\n",
              "      <th>746</th>\n",
              "      <td>39</td>\n",
              "      <td>1</td>\n",
              "      <td>250</td>\n",
              "      <td>39</td>\n",
              "      <td>False</td>\n",
              "    </tr>\n",
              "    <tr>\n",
              "      <th>747</th>\n",
              "      <td>72</td>\n",
              "      <td>1</td>\n",
              "      <td>250</td>\n",
              "      <td>72</td>\n",
              "      <td>False</td>\n",
              "    </tr>\n",
              "  </tbody>\n",
              "</table>\n",
              "</div>\n",
              "      <button class=\"colab-df-convert\" onclick=\"convertToInteractive('df-09f9029e-9000-4516-b2e0-192092f460de')\"\n",
              "              title=\"Convert this dataframe to an interactive table.\"\n",
              "              style=\"display:none;\">\n",
              "        \n",
              "  <svg xmlns=\"http://www.w3.org/2000/svg\" height=\"24px\"viewBox=\"0 0 24 24\"\n",
              "       width=\"24px\">\n",
              "    <path d=\"M0 0h24v24H0V0z\" fill=\"none\"/>\n",
              "    <path d=\"M18.56 5.44l.94 2.06.94-2.06 2.06-.94-2.06-.94-.94-2.06-.94 2.06-2.06.94zm-11 1L8.5 8.5l.94-2.06 2.06-.94-2.06-.94L8.5 2.5l-.94 2.06-2.06.94zm10 10l.94 2.06.94-2.06 2.06-.94-2.06-.94-.94-2.06-.94 2.06-2.06.94z\"/><path d=\"M17.41 7.96l-1.37-1.37c-.4-.4-.92-.59-1.43-.59-.52 0-1.04.2-1.43.59L10.3 9.45l-7.72 7.72c-.78.78-.78 2.05 0 2.83L4 21.41c.39.39.9.59 1.41.59.51 0 1.02-.2 1.41-.59l7.78-7.78 2.81-2.81c.8-.78.8-2.07 0-2.86zM5.41 20L4 18.59l7.72-7.72 1.47 1.35L5.41 20z\"/>\n",
              "  </svg>\n",
              "      </button>\n",
              "      \n",
              "  <style>\n",
              "    .colab-df-container {\n",
              "      display:flex;\n",
              "      flex-wrap:wrap;\n",
              "      gap: 12px;\n",
              "    }\n",
              "\n",
              "    .colab-df-convert {\n",
              "      background-color: #E8F0FE;\n",
              "      border: none;\n",
              "      border-radius: 50%;\n",
              "      cursor: pointer;\n",
              "      display: none;\n",
              "      fill: #1967D2;\n",
              "      height: 32px;\n",
              "      padding: 0 0 0 0;\n",
              "      width: 32px;\n",
              "    }\n",
              "\n",
              "    .colab-df-convert:hover {\n",
              "      background-color: #E2EBFA;\n",
              "      box-shadow: 0px 1px 2px rgba(60, 64, 67, 0.3), 0px 1px 3px 1px rgba(60, 64, 67, 0.15);\n",
              "      fill: #174EA6;\n",
              "    }\n",
              "\n",
              "    [theme=dark] .colab-df-convert {\n",
              "      background-color: #3B4455;\n",
              "      fill: #D2E3FC;\n",
              "    }\n",
              "\n",
              "    [theme=dark] .colab-df-convert:hover {\n",
              "      background-color: #434B5C;\n",
              "      box-shadow: 0px 1px 3px 1px rgba(0, 0, 0, 0.15);\n",
              "      filter: drop-shadow(0px 1px 2px rgba(0, 0, 0, 0.3));\n",
              "      fill: #FFFFFF;\n",
              "    }\n",
              "  </style>\n",
              "\n",
              "      <script>\n",
              "        const buttonEl =\n",
              "          document.querySelector('#df-09f9029e-9000-4516-b2e0-192092f460de button.colab-df-convert');\n",
              "        buttonEl.style.display =\n",
              "          google.colab.kernel.accessAllowed ? 'block' : 'none';\n",
              "\n",
              "        async function convertToInteractive(key) {\n",
              "          const element = document.querySelector('#df-09f9029e-9000-4516-b2e0-192092f460de');\n",
              "          const dataTable =\n",
              "            await google.colab.kernel.invokeFunction('convertToInteractive',\n",
              "                                                     [key], {});\n",
              "          if (!dataTable) return;\n",
              "\n",
              "          const docLinkHtml = 'Like what you see? Visit the ' +\n",
              "            '<a target=\"_blank\" href=https://colab.research.google.com/notebooks/data_table.ipynb>data table notebook</a>'\n",
              "            + ' to learn more about interactive tables.';\n",
              "          element.innerHTML = '';\n",
              "          dataTable['output_type'] = 'display_data';\n",
              "          await google.colab.output.renderOutput(dataTable, element);\n",
              "          const docLink = document.createElement('div');\n",
              "          docLink.innerHTML = docLinkHtml;\n",
              "          element.appendChild(docLink);\n",
              "        }\n",
              "      </script>\n",
              "    </div>\n",
              "  </div>\n",
              "  "
            ]
          },
          "metadata": {},
          "execution_count": 359
        }
      ]
    },
    {
      "cell_type": "markdown",
      "source": [
        "##Variable Time"
      ],
      "metadata": {
        "id": "VkJ2UJnF9SvS"
      }
    },
    {
      "cell_type": "markdown",
      "source": [
        "Para realizar el análisis correspondiente a esta variable, se hará un estudio inicial de sus medidas estadísticas a través del método `.describe()`, observando que:\n",
        "+ Exiten $748$ datos no null de la variable.\n",
        "\n",
        "+ La media aritmética con respecto a count es $34.28$ meses. El valor de esta información se determinará en que tan lejos se encuentra de la mediana, o si existe la presenciencia de outliers.\n",
        "\n",
        "+ La desviación estándar del tiempo con respecto a su media es $24.37$ meses en promedio.\n",
        "\n",
        "+ El valor mínimo es de $2$ meses y el valor máximo es $98$ meses.\n",
        "\n",
        "+ Los cuartiles determinan:\n",
        " +\tEl $25\\%$ de las personas donaron por primera vez hace máximo $Q_1=16$ meses desde su primera donación.\n",
        " *El $50\\%$ de las personas donaron por primera vez hace máximo $ Q_2=28$ meses desde su primera donación.\n",
        " +   El $75\\%$ de las personas donaron por primera vez hace máximo $Q_3=50$ meses desde su primera donación.\n",
        "     \n",
        "     "
      ],
      "metadata": {
        "id": "3duNqYMj31yP"
      }
    },
    {
      "cell_type": "code",
      "source": [
        "data['Time'].describe() #describe las medidas estadísticas de la variable."
      ],
      "metadata": {
        "colab": {
          "base_uri": "https://localhost:8080/"
        },
        "outputId": "b5115e23-70f3-4945-e44d-60ab00072d56",
        "id": "yc7dt-aN31yQ"
      },
      "execution_count": null,
      "outputs": [
        {
          "output_type": "execute_result",
          "data": {
            "text/plain": [
              "count    748.000000\n",
              "mean      34.282086\n",
              "std       24.376714\n",
              "min        2.000000\n",
              "25%       16.000000\n",
              "50%       28.000000\n",
              "75%       50.000000\n",
              "max       98.000000\n",
              "Name: Time, dtype: float64"
            ]
          },
          "metadata": {},
          "execution_count": 360
        }
      ]
    },
    {
      "cell_type": "code",
      "source": [
        "data.head()"
      ],
      "metadata": {
        "colab": {
          "base_uri": "https://localhost:8080/"
        },
        "id": "aO2RyI71KBMj",
        "outputId": "ff0ec144-2148-4b4c-de7d-4bef62c3d3ee"
      },
      "execution_count": null,
      "outputs": [
        {
          "output_type": "execute_result",
          "data": {
            "text/plain": [
              "   Recency  Frequency  Monetary  Time  Donated\n",
              "0        2         50     12500    98     True\n",
              "1        0         13      3250    28     True\n",
              "2        1         16      4000    35     True\n",
              "3        2         20      5000    45     True\n",
              "4        1         24      6000    77    False"
            ],
            "text/html": [
              "\n",
              "  <div id=\"df-3669362e-ff99-484e-ad51-840fcdf3b346\">\n",
              "    <div class=\"colab-df-container\">\n",
              "      <div>\n",
              "<style scoped>\n",
              "    .dataframe tbody tr th:only-of-type {\n",
              "        vertical-align: middle;\n",
              "    }\n",
              "\n",
              "    .dataframe tbody tr th {\n",
              "        vertical-align: top;\n",
              "    }\n",
              "\n",
              "    .dataframe thead th {\n",
              "        text-align: right;\n",
              "    }\n",
              "</style>\n",
              "<table border=\"1\" class=\"dataframe\">\n",
              "  <thead>\n",
              "    <tr style=\"text-align: right;\">\n",
              "      <th></th>\n",
              "      <th>Recency</th>\n",
              "      <th>Frequency</th>\n",
              "      <th>Monetary</th>\n",
              "      <th>Time</th>\n",
              "      <th>Donated</th>\n",
              "    </tr>\n",
              "  </thead>\n",
              "  <tbody>\n",
              "    <tr>\n",
              "      <th>0</th>\n",
              "      <td>2</td>\n",
              "      <td>50</td>\n",
              "      <td>12500</td>\n",
              "      <td>98</td>\n",
              "      <td>True</td>\n",
              "    </tr>\n",
              "    <tr>\n",
              "      <th>1</th>\n",
              "      <td>0</td>\n",
              "      <td>13</td>\n",
              "      <td>3250</td>\n",
              "      <td>28</td>\n",
              "      <td>True</td>\n",
              "    </tr>\n",
              "    <tr>\n",
              "      <th>2</th>\n",
              "      <td>1</td>\n",
              "      <td>16</td>\n",
              "      <td>4000</td>\n",
              "      <td>35</td>\n",
              "      <td>True</td>\n",
              "    </tr>\n",
              "    <tr>\n",
              "      <th>3</th>\n",
              "      <td>2</td>\n",
              "      <td>20</td>\n",
              "      <td>5000</td>\n",
              "      <td>45</td>\n",
              "      <td>True</td>\n",
              "    </tr>\n",
              "    <tr>\n",
              "      <th>4</th>\n",
              "      <td>1</td>\n",
              "      <td>24</td>\n",
              "      <td>6000</td>\n",
              "      <td>77</td>\n",
              "      <td>False</td>\n",
              "    </tr>\n",
              "  </tbody>\n",
              "</table>\n",
              "</div>\n",
              "      <button class=\"colab-df-convert\" onclick=\"convertToInteractive('df-3669362e-ff99-484e-ad51-840fcdf3b346')\"\n",
              "              title=\"Convert this dataframe to an interactive table.\"\n",
              "              style=\"display:none;\">\n",
              "        \n",
              "  <svg xmlns=\"http://www.w3.org/2000/svg\" height=\"24px\"viewBox=\"0 0 24 24\"\n",
              "       width=\"24px\">\n",
              "    <path d=\"M0 0h24v24H0V0z\" fill=\"none\"/>\n",
              "    <path d=\"M18.56 5.44l.94 2.06.94-2.06 2.06-.94-2.06-.94-.94-2.06-.94 2.06-2.06.94zm-11 1L8.5 8.5l.94-2.06 2.06-.94-2.06-.94L8.5 2.5l-.94 2.06-2.06.94zm10 10l.94 2.06.94-2.06 2.06-.94-2.06-.94-.94-2.06-.94 2.06-2.06.94z\"/><path d=\"M17.41 7.96l-1.37-1.37c-.4-.4-.92-.59-1.43-.59-.52 0-1.04.2-1.43.59L10.3 9.45l-7.72 7.72c-.78.78-.78 2.05 0 2.83L4 21.41c.39.39.9.59 1.41.59.51 0 1.02-.2 1.41-.59l7.78-7.78 2.81-2.81c.8-.78.8-2.07 0-2.86zM5.41 20L4 18.59l7.72-7.72 1.47 1.35L5.41 20z\"/>\n",
              "  </svg>\n",
              "      </button>\n",
              "      \n",
              "  <style>\n",
              "    .colab-df-container {\n",
              "      display:flex;\n",
              "      flex-wrap:wrap;\n",
              "      gap: 12px;\n",
              "    }\n",
              "\n",
              "    .colab-df-convert {\n",
              "      background-color: #E8F0FE;\n",
              "      border: none;\n",
              "      border-radius: 50%;\n",
              "      cursor: pointer;\n",
              "      display: none;\n",
              "      fill: #1967D2;\n",
              "      height: 32px;\n",
              "      padding: 0 0 0 0;\n",
              "      width: 32px;\n",
              "    }\n",
              "\n",
              "    .colab-df-convert:hover {\n",
              "      background-color: #E2EBFA;\n",
              "      box-shadow: 0px 1px 2px rgba(60, 64, 67, 0.3), 0px 1px 3px 1px rgba(60, 64, 67, 0.15);\n",
              "      fill: #174EA6;\n",
              "    }\n",
              "\n",
              "    [theme=dark] .colab-df-convert {\n",
              "      background-color: #3B4455;\n",
              "      fill: #D2E3FC;\n",
              "    }\n",
              "\n",
              "    [theme=dark] .colab-df-convert:hover {\n",
              "      background-color: #434B5C;\n",
              "      box-shadow: 0px 1px 3px 1px rgba(0, 0, 0, 0.15);\n",
              "      filter: drop-shadow(0px 1px 2px rgba(0, 0, 0, 0.3));\n",
              "      fill: #FFFFFF;\n",
              "    }\n",
              "  </style>\n",
              "\n",
              "      <script>\n",
              "        const buttonEl =\n",
              "          document.querySelector('#df-3669362e-ff99-484e-ad51-840fcdf3b346 button.colab-df-convert');\n",
              "        buttonEl.style.display =\n",
              "          google.colab.kernel.accessAllowed ? 'block' : 'none';\n",
              "\n",
              "        async function convertToInteractive(key) {\n",
              "          const element = document.querySelector('#df-3669362e-ff99-484e-ad51-840fcdf3b346');\n",
              "          const dataTable =\n",
              "            await google.colab.kernel.invokeFunction('convertToInteractive',\n",
              "                                                     [key], {});\n",
              "          if (!dataTable) return;\n",
              "\n",
              "          const docLinkHtml = 'Like what you see? Visit the ' +\n",
              "            '<a target=\"_blank\" href=https://colab.research.google.com/notebooks/data_table.ipynb>data table notebook</a>'\n",
              "            + ' to learn more about interactive tables.';\n",
              "          element.innerHTML = '';\n",
              "          dataTable['output_type'] = 'display_data';\n",
              "          await google.colab.output.renderOutput(dataTable, element);\n",
              "          const docLink = document.createElement('div');\n",
              "          docLink.innerHTML = docLinkHtml;\n",
              "          element.appendChild(docLink);\n",
              "        }\n",
              "      </script>\n",
              "    </div>\n",
              "  </div>\n",
              "  "
            ]
          },
          "metadata": {},
          "execution_count": 361
        }
      ]
    },
    {
      "cell_type": "markdown",
      "source": [
        "Después de explorar el diagrama de barras y el histograma, se representará gráficamente las medidas de tendencia central haciendo uso de la curva de distribución."
      ],
      "metadata": {
        "id": "7_bfZcZS31yQ"
      }
    },
    {
      "cell_type": "markdown",
      "source": [
        "Ahora, a través del diagrama de barras se puede observar que:\n",
        "+ La moda equivale a $4$ meses con una frecuencia de $57$ personas, representando el $7.6\\%$ del total de datos.\n"
      ],
      "metadata": {
        "id": "pcvxr83d31yQ"
      }
    },
    {
      "cell_type": "code",
      "source": [
        "plot.figure(figsize=(20,7.5)) #tamaño de la figura\n",
        "splot = data['Time'].value_counts().sort_index(ascending=True).plot(kind='bar',\n",
        "                                                             fontsize = 15, \n",
        "                                                             color='pink',\n",
        "                                                             ec='black') #creación de la gráfica de barras \n",
        "for p in splot.patches: \n",
        "    splot.annotate(format(p.get_height()), \n",
        "                   (p.get_x() + p.get_width() / 2., p.get_height()), \n",
        "                   ha='center', va='center', \n",
        "                   xytext=(0, 9), \n",
        "                   textcoords='offset points') \n",
        "\n",
        "plot.xlabel('Meses') #Etiqueta del eje x\n",
        "plot.ylabel('Cantidad de personas') #Etiqueta del eje y\n",
        "plot.title('Meses trancurridos después de la primera donación ') # Título de la gráfica\n",
        "plot.grid(axis='y') #rejillas horizontales\n",
        "plot.savefig('Time.png')"
      ],
      "metadata": {
        "colab": {
          "base_uri": "https://localhost:8080/"
        },
        "outputId": "f07e0fc8-4836-49bf-a750-ce28574efa28",
        "id": "iXXQ2YOt31yQ"
      },
      "execution_count": null,
      "outputs": [
        {
          "output_type": "display_data",
          "data": {
            "text/plain": [
              "<Figure size 1440x540 with 1 Axes>"
            ],
            "image/png": "[encoded data removed]"
          },
          "metadata": {
            "needs_background": "light"
          }
        }
      ]
    },
    {
      "cell_type": "markdown",
      "source": [
        "Graficando la distribución normal de la variable 'Time', se observa que:\n",
        "+ La distribución está sesgada positivamente (hacia la izquierda),  la moda $=4$ $<$ mediana $=28$ $<$ media $=34.28$.\n",
        "+La mejor medida de tendencia central para la variable Time es la mediana. Esta medida es más confiable cuando se presenta una distribución asimétrica de los datos. "
      ],
      "metadata": {
        "id": "5YtiOxih4r0U"
      }
    },
    {
      "cell_type": "code",
      "source": [
        "plot.figure(figsize=(20,7.5)) #tamaño de la figura\n",
        "data['Time'].plot.kde(label='Curva de distribución',color='black',grid=True) #se gráfica la curva de distribución.\n",
        "plot.axvline(x=data['Time'].mean(), ymin=0, ymax=1,label='Media',color='darkblue') #plot.axvline() permite gráficas de rectas verticales.\n",
        "plot.axvline(x=data['Time'].mode()[0], ymin=0, ymax=1,label='Moda',color='red')\n",
        "plot.axvline(x=data['Time'].median(), ymin=0, ymax=1,label='Mediana',color='green')\n",
        "plot.title('Curva de distribución de la variable Time')\n",
        "plot.ylabel('Densidad')\n",
        "plot.legend() #permite mostrar la tabla donde se indica que color corresponde a cada nombre de curva.\n",
        "plot.show() #permite mostrar la gráfica \n",
        "\n"
      ],
      "metadata": {
        "id": "nK5XiCJG5ndS",
        "colab": {
          "base_uri": "https://localhost:8080/"
        },
        "outputId": "6450d254-3e0b-417f-f06f-016769d355f3"
      },
      "execution_count": null,
      "outputs": [
        {
          "output_type": "display_data",
          "data": {
            "text/plain": [
              "<Figure size 1440x540 with 1 Axes>"
            ],
            "image/png": "[encoded data removed]"
          },
          "metadata": {
            "needs_background": "light"
          }
        }
      ]
    },
    {
      "cell_type": "markdown",
      "source": [
        "La distribución de Time no es normal, de modo que la desviación estandar no ofrece una información asertiva respecto a la media. Sin embargo, con base a ella se puede hacer el cálculo del coefiente de variación; el cual dirá porcentualmente qué tan dispersos se encuentran los datos."
      ],
      "metadata": {
        "id": "ZhLRTAj894im"
      }
    },
    {
      "cell_type": "code",
      "source": [
        "#Formula del coeficiente de variación tomándolo porcentualmente\n",
        "coef_variación= (data['Time'].std()/data['Time'].mean())*100  \n",
        "coef_variación"
      ],
      "metadata": {
        "colab": {
          "base_uri": "https://localhost:8080/"
        },
        "id": "p0oKA50X-HRX",
        "outputId": "5d565208-ec8f-4bce-eb81-2a60b79dac3d"
      },
      "execution_count": null,
      "outputs": [
        {
          "output_type": "execute_result",
          "data": {
            "text/plain": [
              "71.1062759728714"
            ]
          },
          "metadata": {},
          "execution_count": 364
        }
      ]
    },
    {
      "cell_type": "markdown",
      "source": [
        "Con un coeficiente de variación del $71.11\\%$ se puede afirmar que los datos se encuentran altamente dispersos respecto a la media."
      ],
      "metadata": {
        "id": "E-53_krc-cw_"
      }
    },
    {
      "cell_type": "markdown",
      "source": [
        "Para analizar qué tan dispersos se encuentran los datos se trabajará el rango intercuartil que permitirá abarcar el $50\\%$ central de los datos.\n",
        "\n",
        "Utilizando el diagrama de cajas y bigotes se observa que:\n",
        "+ El valor mínimo es $2$ meses.\n",
        "+ Los cuartiles $Q_1$, $Q_2$ y $Q_3$ están representados por las rectas horizontales que conforman la caja respectivamente.\n",
        "+ El cuartil $Q_2$ sin el cuartil $Q_1$ representa la menor cantidad de frecuencia entre los tres cuartiles.\n",
        "\n",
        "Considerando  que  la desviación estandar es de $24.37$ meses, se tiene una varianza aproximada de $593.8969$ meses."
      ],
      "metadata": {
        "id": "_lOpWS0q31yR"
      }
    },
    {
      "cell_type": "code",
      "source": [
        "data['Time'].plot(kind=\"box\", fontsize = 15,color='red') #Se gráfica el diagrama de cajas y bigotes \n",
        "\n",
        "plot.ylabel('Meses') #Etiqueta del eje y\n",
        "plot.title('Meses trancurridos después de la primera donación ') #Título de la gráfica\n",
        "plot.grid(axis='y') #activa las rejillas horizontales \n",
        "plot.savefig('Time.png') #permite guardar la figura como Time.png"
      ],
      "metadata": {
        "id": "gxpQBTac31yR",
        "colab": {
          "base_uri": "https://localhost:8080/"
        },
        "outputId": "91c297e3-7a02-4c6c-ae55-ce306efd95c9"
      },
      "execution_count": null,
      "outputs": [
        {
          "output_type": "display_data",
          "data": {
            "text/plain": [
              "<Figure size 432x288 with 1 Axes>"
            ],
            "image/png": "[encoded data removed]"
          },
          "metadata": {
            "needs_background": "light"
          }
        }
      ]
    },
    {
      "cell_type": "markdown",
      "source": [
        "Con base al cálculo del bigote inferior y del bigote superior, el diagrama de cajas permitirá observar que no existe ningún outlier en la variable Time. "
      ],
      "metadata": {
        "id": "k12AcGWM31yS"
      }
    },
    {
      "cell_type": "code",
      "source": [
        "#se calcula el valor de los cuartiles\n",
        "Q1=data['Time'].quantile(0.25)\n",
        "Q2=data['Time'].quantile(0.50)\n",
        "Q3=data['Time'].quantile(0.75)\n",
        "RI=Q3-Q1\n",
        "# Se calcula el valor del bigote superior\n",
        "BS=Q3+1.5*RI\n",
        "print('Bigote superior es: ', BS)\n",
        "# Se calcula el valor del bigote inferior\n",
        "BI=Q1-1.5*RI\n",
        "print('Bigote inferiór es: ', BI)"
      ],
      "metadata": {
        "id": "yjOEnUA931yS",
        "colab": {
          "base_uri": "https://localhost:8080/"
        },
        "outputId": "f25714b4-547c-400a-b393-b1ee4fa43e66"
      },
      "execution_count": null,
      "outputs": [
        {
          "output_type": "stream",
          "name": "stdout",
          "text": [
            "Bigote superior es:  101.0\n",
            "Bigote inferiór es:  -35.0\n"
          ]
        }
      ]
    },
    {
      "cell_type": "markdown",
      "source": [
        "Si el valor mínimo de la variable Time es menor que el bigote inferior, entonces se tendría un outlier inferior. En este caso, el valor mínimo es $2$ meses por lo que no existe outlier y además, el bigote en la gráfica tomará el valor mínimo de los datos, es decir, $2$ meses. Análogamente, el bigote superior toma  el valor máximo de la variable que es $98$ meses."
      ],
      "metadata": {
        "id": "Eil_6VC-31yS"
      }
    },
    {
      "cell_type": "markdown",
      "metadata": {
        "id": "hguWH32r3pKs"
      },
      "source": [
        "##Variable Monetary"
      ]
    },
    {
      "cell_type": "markdown",
      "metadata": {
        "id": "66VTHyCHHrvm"
      },
      "source": [
        "La variable 'Monetary' es una variable cuantitativa continua que representa la cantidad de sangre donada por una persona, haciendo uso del método `Describe()` se hará un análisis descriptivo de esta, observando que:\n",
        "\n",
        "*  La variable tiene un total de $748$ datos, ninguno vacío.\n",
        "*  La media aritmética o promedio de datos está rondeando los $1348.64cc$ (El valor de esta información está determinada por la diferencia respecto los outliers).\n",
        "*   La desviación estándar de los datos respecto a su media es de 1459.82cc.\n",
        "*   La persona con menor volúmen de sangre donada registra $250cc$, mientras que la persona que más ha donado lo ha hecho por un total de $12500cc$.\n",
        "\n",
        "Los cuartiles determinan:\n",
        "\n",
        "+ La cuarta parte de las personas ha donado a lo más $Q_1=500cc$.\n",
        "\n",
        "+ El 50% de las personas ha donado menos de $Q_2=1000cc$.\n",
        "\n",
        "+ El 75% de las personas ha donado $Q_3=1750cc$ a lo más.\n"
      ]
    },
    {
      "cell_type": "code",
      "execution_count": null,
      "metadata": {
        "id": "7ybco1oP4WnD",
        "colab": {
          "base_uri": "https://localhost:8080/"
        },
        "outputId": "1b27edf9-fab7-4660-d37a-ef5f2ecd8d24"
      },
      "outputs": [
        {
          "output_type": "execute_result",
          "data": {
            "text/plain": [
              "count      748.000000\n",
              "mean      1378.676471\n",
              "std       1459.826781\n",
              "min        250.000000\n",
              "25%        500.000000\n",
              "50%       1000.000000\n",
              "75%       1750.000000\n",
              "max      12500.000000\n",
              "Name: Monetary, dtype: float64"
            ]
          },
          "metadata": {},
          "execution_count": 367
        }
      ],
      "source": [
        "data['Monetary'].describe()"
      ]
    },
    {
      "cell_type": "markdown",
      "metadata": {
        "id": "XanRJHNZ6ZC2"
      },
      "source": [
        "#### Medidas de tendencia central.\n",
        "El historgrama y líneas de distribución servirán para representar gráficamente la posición de las medidas de distribución central en el conjunto de datos. Se organiza el dataframe respecto la variable."
      ]
    },
    {
      "cell_type": "code",
      "execution_count": null,
      "metadata": {
        "id": "1j38tpba61Jn",
        "colab": {
          "base_uri": "https://localhost:8080/"
        },
        "outputId": "fd8e3c4f-90f5-4cdc-95e2-6842a4da67d4"
      },
      "outputs": [
        {
          "output_type": "execute_result",
          "data": {
            "text/plain": [
              "     Recency  Frequency  Monetary  Time  Donated\n",
              "747       72          1       250    72    False\n",
              "170        2          1       250     2    False\n",
              "171        2          1       250     2    False\n",
              "172        2          1       250     2    False\n",
              "173        2          1       250     2    False\n",
              "..       ...        ...       ...   ...      ...\n",
              "505        2         41     10250    98     True\n",
              "500        2         43     10750    86     True\n",
              "503        2         44     11000    98    False\n",
              "9          5         46     11500    98     True\n",
              "0          2         50     12500    98     True\n",
              "\n",
              "[748 rows x 5 columns]"
            ],
            "text/html": [
              "\n",
              "  <div id=\"df-9557db7b-1dd6-439e-9fbc-f1c8d99a0d79\">\n",
              "    <div class=\"colab-df-container\">\n",
              "      <div>\n",
              "<style scoped>\n",
              "    .dataframe tbody tr th:only-of-type {\n",
              "        vertical-align: middle;\n",
              "    }\n",
              "\n",
              "    .dataframe tbody tr th {\n",
              "        vertical-align: top;\n",
              "    }\n",
              "\n",
              "    .dataframe thead th {\n",
              "        text-align: right;\n",
              "    }\n",
              "</style>\n",
              "<table border=\"1\" class=\"dataframe\">\n",
              "  <thead>\n",
              "    <tr style=\"text-align: right;\">\n",
              "      <th></th>\n",
              "      <th>Recency</th>\n",
              "      <th>Frequency</th>\n",
              "      <th>Monetary</th>\n",
              "      <th>Time</th>\n",
              "      <th>Donated</th>\n",
              "    </tr>\n",
              "  </thead>\n",
              "  <tbody>\n",
              "    <tr>\n",
              "      <th>747</th>\n",
              "      <td>72</td>\n",
              "      <td>1</td>\n",
              "      <td>250</td>\n",
              "      <td>72</td>\n",
              "      <td>False</td>\n",
              "    </tr>\n",
              "    <tr>\n",
              "      <th>170</th>\n",
              "      <td>2</td>\n",
              "      <td>1</td>\n",
              "      <td>250</td>\n",
              "      <td>2</td>\n",
              "      <td>False</td>\n",
              "    </tr>\n",
              "    <tr>\n",
              "      <th>171</th>\n",
              "      <td>2</td>\n",
              "      <td>1</td>\n",
              "      <td>250</td>\n",
              "      <td>2</td>\n",
              "      <td>False</td>\n",
              "    </tr>\n",
              "    <tr>\n",
              "      <th>172</th>\n",
              "      <td>2</td>\n",
              "      <td>1</td>\n",
              "      <td>250</td>\n",
              "      <td>2</td>\n",
              "      <td>False</td>\n",
              "    </tr>\n",
              "    <tr>\n",
              "      <th>173</th>\n",
              "      <td>2</td>\n",
              "      <td>1</td>\n",
              "      <td>250</td>\n",
              "      <td>2</td>\n",
              "      <td>False</td>\n",
              "    </tr>\n",
              "    <tr>\n",
              "      <th>...</th>\n",
              "      <td>...</td>\n",
              "      <td>...</td>\n",
              "      <td>...</td>\n",
              "      <td>...</td>\n",
              "      <td>...</td>\n",
              "    </tr>\n",
              "    <tr>\n",
              "      <th>505</th>\n",
              "      <td>2</td>\n",
              "      <td>41</td>\n",
              "      <td>10250</td>\n",
              "      <td>98</td>\n",
              "      <td>True</td>\n",
              "    </tr>\n",
              "    <tr>\n",
              "      <th>500</th>\n",
              "      <td>2</td>\n",
              "      <td>43</td>\n",
              "      <td>10750</td>\n",
              "      <td>86</td>\n",
              "      <td>True</td>\n",
              "    </tr>\n",
              "    <tr>\n",
              "      <th>503</th>\n",
              "      <td>2</td>\n",
              "      <td>44</td>\n",
              "      <td>11000</td>\n",
              "      <td>98</td>\n",
              "      <td>False</td>\n",
              "    </tr>\n",
              "    <tr>\n",
              "      <th>9</th>\n",
              "      <td>5</td>\n",
              "      <td>46</td>\n",
              "      <td>11500</td>\n",
              "      <td>98</td>\n",
              "      <td>True</td>\n",
              "    </tr>\n",
              "    <tr>\n",
              "      <th>0</th>\n",
              "      <td>2</td>\n",
              "      <td>50</td>\n",
              "      <td>12500</td>\n",
              "      <td>98</td>\n",
              "      <td>True</td>\n",
              "    </tr>\n",
              "  </tbody>\n",
              "</table>\n",
              "<p>748 rows × 5 columns</p>\n",
              "</div>\n",
              "      <button class=\"colab-df-convert\" onclick=\"convertToInteractive('df-9557db7b-1dd6-439e-9fbc-f1c8d99a0d79')\"\n",
              "              title=\"Convert this dataframe to an interactive table.\"\n",
              "              style=\"display:none;\">\n",
              "        \n",
              "  <svg xmlns=\"http://www.w3.org/2000/svg\" height=\"24px\"viewBox=\"0 0 24 24\"\n",
              "       width=\"24px\">\n",
              "    <path d=\"M0 0h24v24H0V0z\" fill=\"none\"/>\n",
              "    <path d=\"M18.56 5.44l.94 2.06.94-2.06 2.06-.94-2.06-.94-.94-2.06-.94 2.06-2.06.94zm-11 1L8.5 8.5l.94-2.06 2.06-.94-2.06-.94L8.5 2.5l-.94 2.06-2.06.94zm10 10l.94 2.06.94-2.06 2.06-.94-2.06-.94-.94-2.06-.94 2.06-2.06.94z\"/><path d=\"M17.41 7.96l-1.37-1.37c-.4-.4-.92-.59-1.43-.59-.52 0-1.04.2-1.43.59L10.3 9.45l-7.72 7.72c-.78.78-.78 2.05 0 2.83L4 21.41c.39.39.9.59 1.41.59.51 0 1.02-.2 1.41-.59l7.78-7.78 2.81-2.81c.8-.78.8-2.07 0-2.86zM5.41 20L4 18.59l7.72-7.72 1.47 1.35L5.41 20z\"/>\n",
              "  </svg>\n",
              "      </button>\n",
              "      \n",
              "  <style>\n",
              "    .colab-df-container {\n",
              "      display:flex;\n",
              "      flex-wrap:wrap;\n",
              "      gap: 12px;\n",
              "    }\n",
              "\n",
              "    .colab-df-convert {\n",
              "      background-color: #E8F0FE;\n",
              "      border: none;\n",
              "      border-radius: 50%;\n",
              "      cursor: pointer;\n",
              "      display: none;\n",
              "      fill: #1967D2;\n",
              "      height: 32px;\n",
              "      padding: 0 0 0 0;\n",
              "      width: 32px;\n",
              "    }\n",
              "\n",
              "    .colab-df-convert:hover {\n",
              "      background-color: #E2EBFA;\n",
              "      box-shadow: 0px 1px 2px rgba(60, 64, 67, 0.3), 0px 1px 3px 1px rgba(60, 64, 67, 0.15);\n",
              "      fill: #174EA6;\n",
              "    }\n",
              "\n",
              "    [theme=dark] .colab-df-convert {\n",
              "      background-color: #3B4455;\n",
              "      fill: #D2E3FC;\n",
              "    }\n",
              "\n",
              "    [theme=dark] .colab-df-convert:hover {\n",
              "      background-color: #434B5C;\n",
              "      box-shadow: 0px 1px 3px 1px rgba(0, 0, 0, 0.15);\n",
              "      filter: drop-shadow(0px 1px 2px rgba(0, 0, 0, 0.3));\n",
              "      fill: #FFFFFF;\n",
              "    }\n",
              "  </style>\n",
              "\n",
              "      <script>\n",
              "        const buttonEl =\n",
              "          document.querySelector('#df-9557db7b-1dd6-439e-9fbc-f1c8d99a0d79 button.colab-df-convert');\n",
              "        buttonEl.style.display =\n",
              "          google.colab.kernel.accessAllowed ? 'block' : 'none';\n",
              "\n",
              "        async function convertToInteractive(key) {\n",
              "          const element = document.querySelector('#df-9557db7b-1dd6-439e-9fbc-f1c8d99a0d79');\n",
              "          const dataTable =\n",
              "            await google.colab.kernel.invokeFunction('convertToInteractive',\n",
              "                                                     [key], {});\n",
              "          if (!dataTable) return;\n",
              "\n",
              "          const docLinkHtml = 'Like what you see? Visit the ' +\n",
              "            '<a target=\"_blank\" href=https://colab.research.google.com/notebooks/data_table.ipynb>data table notebook</a>'\n",
              "            + ' to learn more about interactive tables.';\n",
              "          element.innerHTML = '';\n",
              "          dataTable['output_type'] = 'display_data';\n",
              "          await google.colab.output.renderOutput(dataTable, element);\n",
              "          const docLink = document.createElement('div');\n",
              "          docLink.innerHTML = docLinkHtml;\n",
              "          element.appendChild(docLink);\n",
              "        }\n",
              "      </script>\n",
              "    </div>\n",
              "  </div>\n",
              "  "
            ]
          },
          "metadata": {},
          "execution_count": 368
        }
      ],
      "source": [
        "\n",
        "data.sort_values(by='Monetary')  #Organizar el data frame respecto la variable 'Monetary'.\n"
      ]
    },
    {
      "cell_type": "markdown",
      "metadata": {
        "id": "WNdsh1eJ9ToM"
      },
      "source": [
        "\n",
        "Para realizar el histograma se debe garantizar que cada valor tenga su respectiva representación de frecuencia. Para ello se agrupan los datos. Con esta tabla de frecuencias se podrá interpretar el histograma.\n"
      ]
    },
    {
      "cell_type": "code",
      "execution_count": null,
      "metadata": {
        "id": "3bs1cBXN9aht",
        "colab": {
          "base_uri": "https://localhost:8080/"
        },
        "outputId": "3166661a-88d0-48d1-adf3-06bb81eed728"
      },
      "outputs": [
        {
          "output_type": "stream",
          "name": "stdout",
          "text": [
            "                        frequency\n",
            "Monetary_group                   \n",
            "(237.75, 1270.833]            481\n",
            "(1270.833, 2291.667]          150\n",
            "(2291.667, 3312.5]             59\n",
            "(3312.5, 4333.333]             36\n",
            "(4333.333, 5354.167]            7\n",
            "(5354.167, 6375.0]              6\n",
            "(6375.0, 7395.833]              1\n",
            "(7395.833, 8416.667]            1\n",
            "(8416.667, 9437.5]              1\n",
            "(9437.5, 10458.333]             2\n",
            "(10458.333, 11479.167]          2\n",
            "(11479.167, 12500.0]            2\n"
          ]
        }
      ],
      "source": [
        "data[\"Monetary_group\"] = pd.cut(data[\"Monetary\"], bins=12)\n",
        "print((data.groupby(\"Monetary_group\").agg(frequency=(\"Monetary\", \"count\"))))"
      ]
    },
    {
      "cell_type": "markdown",
      "metadata": {
        "id": "j6_ZWj3k_no-"
      },
      "source": [
        "El resultado anterior muestra una distribución en 12 intervalos de frecuencia, dejando notar que la mayoría de datos se encuentran entre los $237.75cc$ y $1270.8cc$."
      ]
    },
    {
      "cell_type": "code",
      "execution_count": null,
      "metadata": {
        "id": "X45k8h6bBDb5",
        "colab": {
          "base_uri": "https://localhost:8080/"
        },
        "outputId": "54b822df-8d13-46c0-a87a-132f199582f3"
      },
      "outputs": [
        {
          "output_type": "display_data",
          "data": {
            "text/plain": [
              "<Figure size 1440x540 with 1 Axes>"
            ],
            "image/png": "[encoded data removed]"
          },
          "metadata": {
            "needs_background": "light"
          }
        }
      ],
      "source": [
        "plot.figure(figsize=(20,7.5))\n",
        "\n",
        "data['Monetary'].plot(kind=\"hist\", fontsize = 8, color='lightblue',ec='black',bins=100)\n",
        "plot.xlabel('Monetary')\n",
        "plot.ylabel('Número de personas')\n",
        "plot.title('Volumen de sangre donada')\n",
        "plot.grid(axis='y')"
      ]
    },
    {
      "cell_type": "code",
      "source": [
        "plot.figure(figsize=(10,15))\n",
        "plot.title(\"Diagrama de Cajas\") #Título del gráfico.\n",
        "plot.xlabel('Volumen de sangre donada')  #Nombre del eje x.\n",
        "plot.grid(True) # Activación de la cuadricula de medición.\n",
        "plot.xticks(np.arange(0,1500,30)) # Escala del eje x.\n",
        "plot.yticks(np.arange(0,20000,500))\n",
        "plot.boxplot(data['Monetary'],vert=True,patch_artist=True); #Comando para hacer el diagrama de caja."
      ],
      "metadata": {
        "id": "K-WkGqk-fUDn",
        "colab": {
          "base_uri": "https://localhost:8080/"
        },
        "outputId": "5d7fef83-34a1-4948-e95d-7ce94076e125"
      },
      "execution_count": null,
      "outputs": [
        {
          "output_type": "display_data",
          "data": {
            "text/plain": [
              "<Figure size 720x1080 with 1 Axes>"
            ],
            "image/png": "[encoded data removed]"
          },
          "metadata": {
            "needs_background": "light"
          }
        }
      ]
    },
    {
      "cell_type": "code",
      "source": [
        "#se calcula el valor de los cuartiles\n",
        "Q1=data['Monetary'].quantile(0.25)\n",
        "Q2=data['Monetary'].quantile(0.50)\n",
        "Q3=data['Monetary'].quantile(0.75)\n",
        "RI=Q3-Q1\n",
        "# Se calcula el valor del bigote superior\n",
        "BS=Q3+1.5*RI\n",
        "print('Bigote superior es: ', BS)\n",
        "# Se calcula el valor del bigote inferior\n",
        "BI=Q1-1.5*RI\n",
        "print('Bigote inferior es: ', BI)"
      ],
      "metadata": {
        "id": "8HkX6jbgnkNC",
        "colab": {
          "base_uri": "https://localhost:8080/"
        },
        "outputId": "ff65a828-34f2-4751-9314-96c61dd360c0"
      },
      "execution_count": null,
      "outputs": [
        {
          "output_type": "stream",
          "name": "stdout",
          "text": [
            "Bigote superior es:  3625.0\n",
            "Bigote inferior es:  -1375.0\n"
          ]
        }
      ]
    },
    {
      "cell_type": "markdown",
      "source": [
        "Los datos anteriores permiten ver que efectivamente existen outliers (superiores) en la variable. Gráficamente se ven como los puntos que están por encima del bigote superior."
      ],
      "metadata": {
        "id": "0OwDfAr_qd9f"
      }
    },
    {
      "cell_type": "markdown",
      "source": [
        "La mayoría de las personas han donado $250cc$ de sangre a lo largo de su vida.  Al ser el dato con más frecuencia, corresponde a la moda de la variable."
      ],
      "metadata": {
        "id": "5U_DQOUSq4CH"
      }
    },
    {
      "cell_type": "code",
      "execution_count": null,
      "metadata": {
        "id": "L2JlYWZ6JKa2",
        "colab": {
          "base_uri": "https://localhost:8080/"
        },
        "outputId": "95c3f50d-3d6a-4702-e025-1d3b80154705"
      },
      "outputs": [
        {
          "output_type": "stream",
          "name": "stdout",
          "text": [
            "El valor de la moda es:  250\n"
          ]
        }
      ],
      "source": [
        "k= data['Monetary'].mode()[0] #Cálculo de la moda.\n",
        "print('El valor de la moda es: ',k)"
      ]
    },
    {
      "cell_type": "markdown",
      "source": [
        "A continuación se realiza el gráfico de la curva de distribución con sus respectivas medidas de tendencia central."
      ],
      "metadata": {
        "id": "TcQsKwzCrOpT"
      }
    },
    {
      "cell_type": "code",
      "source": [
        "plot.figure(figsize=(20,7)) #tamaño de la figura\n",
        "plot.title(\"Curva de distribución de la variable Monetary\")   #Título del gráfico.\n",
        "data['Monetary'].plot.kde(label='Curva de distribución',color=\"black\",grid=True)\n",
        "plot.axvline(x=data['Monetary'].mean(), ymin=0, ymax=1,label='Media',color='darkblue') #plot.axvline() permite gráficas de rectas verticales.\n",
        "plot.axvline(x=data['Monetary'].mode()[0], ymin=0, ymax=1,label='Moda',color='red')\n",
        "plot.axvline(x=data['Monetary'].median(), ymin=0, ymax=1,label='Mediana',color='green')\n",
        "plot.text(data['Monetary'].mean(),0.0004,round(data['Monetary'].mean(),1),color=\"blue\",fontsize=16,rotation=0) #Valor de la media.\n",
        "plot.text(data['Monetary'].mode()[0]+1,0.0003,data['Monetary'].mode()[0],color=\"red\",fontsize=16,rotation=0) #Valor de la moda.\n",
        "plot.text(data['Monetary'].median()+400,0.0001,round(data['Monetary'].median(),1),color=\"green\",fontsize=16,rotation=0) #Valor de la mediana.\n",
        "plot.legend() #permite mostrar la tabla donde se indica que color corresponde a cada nombre de curva.\n",
        "plot.show()"
      ],
      "metadata": {
        "id": "ZlQh7bi-zVWb",
        "colab": {
          "base_uri": "https://localhost:8080/"
        },
        "outputId": "ca76bff2-6ec9-4e81-8c74-cf329469cb2d"
      },
      "execution_count": null,
      "outputs": [
        {
          "output_type": "display_data",
          "data": {
            "text/plain": [
              "<Figure size 1440x504 with 1 Axes>"
            ],
            "image/png": "[encoded data removed]"
          },
          "metadata": {
            "needs_background": "light"
          }
        }
      ]
    },
    {
      "cell_type": "markdown",
      "source": [
        "Se puede observar que la distribución de la variable no es normal (cuando lo es, las tres medidas de tendencia tienden a superponerse). De la gráfica se puede concluir que la mayor parte de los datos se encuentra entre los $0cc$ Y $2500cc$."
      ],
      "metadata": {
        "id": "kELMUgwfxsz3"
      }
    },
    {
      "cell_type": "markdown",
      "source": [
        "## Variable Frequency"
      ],
      "metadata": {
        "id": "r7qnq9gyymQZ"
      }
    },
    {
      "cell_type": "markdown",
      "source": [
        "La variable Frequency es una variable cuantitativa discreta de tipo float64, que describe el número total de donaciones desde la primera vez.\n",
        "\n",
        "Para realizar el análisis correspondiente a esta variable, se hará un estudio inicial de sus medidas estadísticas a través del método `describe()`."
      ],
      "metadata": {
        "id": "DE1ZpiSc2VB0"
      }
    },
    {
      "cell_type": "code",
      "source": [
        "data.Frequency.describe()"
      ],
      "metadata": {
        "id": "oF4ZN_a5yz7_",
        "colab": {
          "base_uri": "https://localhost:8080/"
        },
        "outputId": "6ef99f1e-f10a-4d62-cff6-c2bf4831e27a"
      },
      "execution_count": null,
      "outputs": [
        {
          "output_type": "execute_result",
          "data": {
            "text/plain": [
              "count    748.000000\n",
              "mean       5.514706\n",
              "std        5.839307\n",
              "min        1.000000\n",
              "25%        2.000000\n",
              "50%        4.000000\n",
              "75%        7.000000\n",
              "max       50.000000\n",
              "Name: Frequency, dtype: float64"
            ]
          },
          "metadata": {},
          "execution_count": 375
        }
      ]
    },
    {
      "cell_type": "markdown",
      "source": [
        "Obteniendo los siguientes resultados:\n",
        "- La media de la variable Frequency es aproximadamente $5.5147$ donaciones desde la primera vez.\n",
        "- La desviación estándar es aproximadamente $5.8393$.\n",
        "- La persona que menos veces ha donado, lo ha hecho en una oportunidad. Mientras que la más recurrente, lo ha hecho en $50$ ocasiones.\n",
        "- Un cuarto de la población ha donado $2$ veces desde su primera donación. La mitad de la población ha donado menos de $4$ veces desde su primera donacion y por último, tres cuartas partes de la población ha donado menos de $7$ veces desde su primera donación."
      ],
      "metadata": {
        "id": "Uf3kP1R9Op4i"
      }
    },
    {
      "cell_type": "code",
      "source": [
        "m1 = data.Frequency.mode()[0] # Cálculo de la moda.\n",
        "print(\"La moda es:\", m1)\n",
        "m2 = data.Frequency.median() # Cálculo de la mediana.\n",
        "print(\"La mediana es:\", m2)"
      ],
      "metadata": {
        "id": "AIuFvyfL1mdc",
        "colab": {
          "base_uri": "https://localhost:8080/"
        },
        "outputId": "a1f4d2d3-f9d2-43e3-98c5-bcaace19c35f"
      },
      "execution_count": null,
      "outputs": [
        {
          "output_type": "stream",
          "name": "stdout",
          "text": [
            "La moda es: 1\n",
            "La mediana es: 4.0\n"
          ]
        }
      ]
    },
    {
      "cell_type": "markdown",
      "source": [
        "Además de las medidas de dispersión anteriormente trabajadas, se puede obtener información relevante a través de la moda indicando que las personas han donado en su mayoría una vez; y la mediana, muestra que la mitad de la población ha donado $4$ veces desde su primera donación.  "
      ],
      "metadata": {
        "id": "UMRgfR1bV1lZ"
      }
    },
    {
      "cell_type": "markdown",
      "source": [
        "Para ver estos datos de una manera más entendible, se usan distintos diagramas que van acordes a la variable Frequency. Se realiza un diagrama de densidad con el fin de ver la distribución que siguen los datos y adicionalmente resaltar la media, mediana y moda en dicho diagrama. "
      ],
      "metadata": {
        "id": "-ErHYNy610wA"
      }
    },
    {
      "cell_type": "code",
      "source": [
        "plot.figure(figsize = (13,7.5)) # Escala gráfico\n",
        "data.Frequency.plot.density(label = 'Curva de distribución', color = 'black', grid = True) # Gráfica la distribución de la variable Recency\n",
        "plot.axvline(x = data['Frequency'].mean(), ymin = 0, ymax = 1, label = 'Media', color = 'darkblue') # Recta que representa la media en la distribución \n",
        "plot.axvline(x = data['Frequency'].mode()[0], ymin = 0, ymax = 1, label = 'Moda', color = 'red')# Recta que representa la moda en la distribución\n",
        "plot.axvline(x = data['Frequency'].median(), ymin = 0, ymax = 1, label = 'Mediana', color = 'darkgreen') # Recta que representa la mediana en la distribución\n",
        "plot.xticks(np.arange(-25,80,5)) # Escala del eje x\n",
        "plot.legend() # Recuadro de etiquetas para identificar cada elemento del gráfico.\n",
        "plot.ylabel(\"Densidad\") # Título eje y\n",
        "plot.xlabel(\"Frequency\") # Título eje x\n",
        "plot.title(\"Distribución variable Frequency\") # Título gráfica\n",
        "plot.show() # Me muestra el gráfico"
      ],
      "metadata": {
        "id": "RtzjFhPd_kc7",
        "colab": {
          "base_uri": "https://localhost:8080/"
        },
        "outputId": "3c7cd7bb-d501-4acd-cdb7-7680063d3269"
      },
      "execution_count": null,
      "outputs": [
        {
          "output_type": "display_data",
          "data": {
            "text/plain": [
              "<Figure size 936x540 with 1 Axes>"
            ],
            "image/png": "[encoded data removed]"
          },
          "metadata": {
            "needs_background": "light"
          }
        }
      ]
    },
    {
      "cell_type": "markdown",
      "source": [
        "Según el gráfico la variable Frequency no tiene una distribución normal. Esto se argumenta teniendo en cuenta que para la variable *moda $<$ mediana $<$ media*, lo cual indica que la distribución está sesgada positivamente. Por tal motivo, la desviación estándar es inadecuada para saber qué tan dispersos se encuentran los datos con relación a la media. Se calculará el coeficiente de variación para tener una mejor información al respecto."
      ],
      "metadata": {
        "id": "AIOMG9Hx-xij"
      }
    },
    {
      "cell_type": "code",
      "source": [
        "#Fórmula del coeficiente de variación tomándolo porcentualmente\n",
        "coef_variación= (data.Frequency.std()/data.Frequency.mean())*100  \n",
        "print(\"Coeficiente de variación:\",coef_variación)"
      ],
      "metadata": {
        "id": "CH2muEp7B1wK",
        "colab": {
          "base_uri": "https://localhost:8080/"
        },
        "outputId": "10180a82-b481-4afe-b494-79f13dd54581"
      },
      "execution_count": null,
      "outputs": [
        {
          "output_type": "stream",
          "name": "stdout",
          "text": [
            "Coeficiente de variación: 105.88610249869912\n"
          ]
        }
      ]
    },
    {
      "cell_type": "markdown",
      "source": [
        "Como el porcentaje del coeficiente de variación es demasiado alto (incluso mayor que el $100\\%$) se puede afirmar que los datos de la variable Frequency son demasiado heterogéneos, es decir, se encuentran muy dispersos de la media. "
      ],
      "metadata": {
        "id": "D7FCIuK0DbWS"
      }
    },
    {
      "cell_type": "markdown",
      "source": [
        "Mediante un diagrama de caja se podrá ver de una mejor manera cómo están ubicados los datos respecto a la media."
      ],
      "metadata": {
        "id": "dnJ4IiNp7Ssq"
      }
    },
    {
      "cell_type": "code",
      "source": [
        "plot.figure(figsize = (13,7.5))\n",
        "data.Frequency.plot.box(color = \"darkblue\",\n",
        "                        title = \"Total de Donaciones\",\n",
        "                        grid = True,\n",
        "                        yticks = range(0,60,5))"
      ],
      "metadata": {
        "id": "dJt4YfXQ6TK8",
        "colab": {
          "base_uri": "https://localhost:8080/"
        },
        "outputId": "63c38d17-c97d-42e3-ade8-e37640f1f699"
      },
      "execution_count": null,
      "outputs": [
        {
          "output_type": "execute_result",
          "data": {
            "text/plain": [
              "<matplotlib.axes._subplots.AxesSubplot at 0x7f141e2736a0>"
            ]
          },
          "metadata": {},
          "execution_count": 379
        },
        {
          "output_type": "display_data",
          "data": {
            "text/plain": [
              "<Figure size 936x540 with 1 Axes>"
            ],
            "image/png": "[encoded data removed]"
          },
          "metadata": {
            "needs_background": "light"
          }
        }
      ]
    },
    {
      "cell_type": "markdown",
      "source": [
        "Según el diagrama se evidencia que hay varios outliers, lo que reafirma el hecho de que los datos se encuentran muy dispersos con respecto a la media. Para demostrar la existencia de estos outliers en el diagrama de caja anterior, se realizará el cálculo de los bigotes."
      ],
      "metadata": {
        "id": "jn2su5PV9ZIT"
      }
    },
    {
      "cell_type": "code",
      "source": [
        "# Se calcula el valor de los cuartiles\n",
        "Q1 = data.Frequency.quantile(0.25)\n",
        "Q2 = data.Frequency.quantile(0.50)\n",
        "Q3 = data.Frequency.quantile(0.75)\n",
        "RI = Q3-Q1\n",
        "# Se calcula el valor del bigote superior\n",
        "BS = Q3 + 1.5*RI\n",
        "print(\"Bigote superior:\", BS)\n",
        "# Se calcula el valor del bigote inferior\n",
        "BI = Q1 - 1.5*RI\n",
        "print(\"Bigote inferiór:\", BI)"
      ],
      "metadata": {
        "id": "N7IYaaA1EuQB",
        "colab": {
          "base_uri": "https://localhost:8080/"
        },
        "outputId": "314abfb5-6473-41a6-9f5b-e1a2b78bf825"
      },
      "execution_count": null,
      "outputs": [
        {
          "output_type": "stream",
          "name": "stdout",
          "text": [
            "Bigote superior: 14.5\n",
            "Bigote inferiór: -5.5\n"
          ]
        }
      ]
    },
    {
      "cell_type": "markdown",
      "source": [
        "Como el valor mínimo de la variable es una $1$ donación y el resultado del bigote inferior es menor que dicho valor, se asegura que no existen outliers inferiores. Además, el bigote en la gráfica tomará el valor mínimo de los datos, es decir, una donación. Por otro lado, el valor máximo de la variable es de $50$ donaciones, el cual es mayor al bigote superior, lo que garantiza la existencia de outliers superiores.  "
      ],
      "metadata": {
        "id": "B9MMDfXgGTNy"
      }
    },
    {
      "cell_type": "markdown",
      "source": [
        "Se realizará un gráfico de barras para evidenciar la frecuencia absoluta de cada dato de la variable Frequency."
      ],
      "metadata": {
        "id": "NPcFsztZ5n3z"
      }
    },
    {
      "cell_type": "code",
      "source": [
        "df_Frequency = data[\"Frequency\"].value_counts()"
      ],
      "metadata": {
        "id": "hF8DXzUu3QHz"
      },
      "execution_count": null,
      "outputs": []
    },
    {
      "cell_type": "code",
      "source": [
        "# Comando para poner etiquetas a las barras.\n",
        "plot.figure(figsize = (13,7.5))\n",
        "splot = df_Frequency.plot.bar(color = \"darkblue\",\n",
        "                      grid = True,\n",
        "                      title = \"Total de donaciones desde la primera donación\",\n",
        "                      xlabel = \"Cantidad de donaciones\",\n",
        "                      ylabel = \"Cantidad de personas\")\n",
        "\n",
        "for p in splot.patches: \n",
        "    splot.annotate(format(p.get_height()), \n",
        "                   (p.get_x() + p.get_width() / 2., p.get_height()), \n",
        "                   ha='center', va='center', \n",
        "                   xytext=(0, 9), \n",
        "                   textcoords='offset points') "
      ],
      "metadata": {
        "id": "ujvxkBP93fsH",
        "colab": {
          "base_uri": "https://localhost:8080/"
        },
        "outputId": "c42a8d1d-b27d-41d5-93e5-2fed4807c5f2"
      },
      "execution_count": null,
      "outputs": [
        {
          "output_type": "display_data",
          "data": {
            "text/plain": [
              "<Figure size 936x540 with 1 Axes>"
            ],
            "image/png": "[encoded data removed]"
          },
          "metadata": {
            "needs_background": "light"
          }
        }
      ]
    },
    {
      "cell_type": "markdown",
      "source": [
        "Según el gráfico se afirma que la mayor parte de la muestra ha donado entre 1 y 11 veces. Por otro lado, los valores con menor frecuencia son aquellos que tiene una alta cantidad de donaciones."
      ],
      "metadata": {
        "id": "KQjtgb0B7Zn-"
      }
    },
    {
      "cell_type": "markdown",
      "source": [
        "##Variable Donated"
      ],
      "metadata": {
        "id": "jlOKF9TBv4UR"
      }
    },
    {
      "cell_type": "markdown",
      "source": [
        "La variable Donated es de tipo booleana y será el objetivo de predicción de este proyecto. "
      ],
      "metadata": {
        "id": "j6iOLseBwOTE"
      }
    },
    {
      "cell_type": "code",
      "source": [
        "plot.figure(figsize=(20,7.5)) #tamaño de la figura\n",
        "data['Donated'].value_counts().plot(kind='pie',\n",
        "                                    autopct='%.f%%', #Permite tener visibles los porcentajes en cada una de las secciones de la gráfica.\n",
        "                                    title='Personas que donaron en marzo del 2007', #Título de la gráfica.\n",
        "                                    colors=['gray', 'red'], #Colores de cada sección del gráfico de tarta.\n",
        "                                    explode=[0.1,0.1], #separación de cada sección con el centro del gráfico.\n",
        "                                    fontsize=15,labels=['No','Sí']) #permite graficar el diagrama de tarta de la variable."
      ],
      "metadata": {
        "id": "j0U86n6PwwOi",
        "colab": {
          "base_uri": "https://localhost:8080/"
        },
        "outputId": "79f380a4-ff53-4e6d-accc-f258fd7f4cd4"
      },
      "execution_count": null,
      "outputs": [
        {
          "output_type": "execute_result",
          "data": {
            "text/plain": [
              "<matplotlib.axes._subplots.AxesSubplot at 0x7f141a01db80>"
            ]
          },
          "metadata": {},
          "execution_count": 383
        },
        {
          "output_type": "display_data",
          "data": {
            "text/plain": [
              "<Figure size 1440x540 with 1 Axes>"
            ],
            "image/png": "[encoded data removed]"
          },
          "metadata": {}
        }
      ]
    },
    {
      "cell_type": "markdown",
      "source": [
        "Con esta información se puede concluir que el $76\\%$ de las personas no donó en Marzo del $2007$, y que un $24\\%$ sí lo hizo."
      ],
      "metadata": {
        "id": "_kwAvRqL3UEm"
      }
    },
    {
      "cell_type": "markdown",
      "source": [
        "Observe ahora el comportamiento de la variable 'Donated' con respecto a las demás variables."
      ],
      "metadata": {
        "id": "kMvq34heqI2Z"
      }
    },
    {
      "cell_type": "code",
      "source": [
        "sns.pairplot(data=data,vars=['Recency', 'Frequency','Monetary','Time'],palette=['gray','red'], hue='Donated') #gráfico que permite relacionar dos a dos cada variable con una escala de colores definida por una tercera variable.\n",
        "plot.show() #permite mostrar el.black, cyanc"
      ],
      "metadata": {
        "id": "7ffav1d5runq",
        "colab": {
          "base_uri": "https://localhost:8080/"
        },
        "outputId": "253ed84e-8e46-452d-957d-3db6f4dbda38"
      },
      "execution_count": null,
      "outputs": [
        {
          "output_type": "display_data",
          "data": {
            "text/plain": [
              "<Figure size 781.25x720 with 20 Axes>"
            ],
            "image/png": "[encoded data removed]"
          },
          "metadata": {
            "needs_background": "light"
          }
        }
      ]
    },
    {
      "cell_type": "markdown",
      "source": [
        "Se puede observar que:\n",
        "+ Si se escoge una persona que haya donado en marzo del $2007$ , es más problable que el tiempo transcurrido desde su última donación sea bajo.\n",
        "\n",
        "+ Las personas que donaron en marzo del $2007$, tienen en su mayoria una frecuencia de donación alta. En consecuencia también la cantidad de centímetros cúbicos de sangre donados será elevada.\n",
        "\n",
        "+ El tiempo transcurrido desde la primera donación no muestra mayor relación con respecto a la probabilidad de que una persona haya donado o no en marzo del $2007$. \n",
        "\n",
        "+ La frecuencia y la cantidad de sangre donada tienen una relación lineal."
      ],
      "metadata": {
        "id": "bN92qTrKuJGW"
      }
    },
    {
      "cell_type": "markdown",
      "source": [
        "## Matriz de correlación."
      ],
      "metadata": {
        "id": "C5Lcool2GCEf"
      }
    },
    {
      "cell_type": "code",
      "source": [
        "corr_matrix = data.iloc[:,0:4].corr() # Comando para hacer la matriz de correlación.\n",
        "corr_matrix"
      ],
      "metadata": {
        "id": "XsYy9iHgGI3_",
        "colab": {
          "base_uri": "https://localhost:8080/"
        },
        "outputId": "5b81033d-a66d-413e-be7c-545be393edeb"
      },
      "execution_count": null,
      "outputs": [
        {
          "output_type": "execute_result",
          "data": {
            "text/plain": [
              "            Recency  Frequency  Monetary      Time\n",
              "Recency    1.000000  -0.182745 -0.182745  0.160618\n",
              "Frequency -0.182745   1.000000  1.000000  0.634940\n",
              "Monetary  -0.182745   1.000000  1.000000  0.634940\n",
              "Time       0.160618   0.634940  0.634940  1.000000"
            ],
            "text/html": [
              "\n",
              "  <div id=\"df-8ac3eb33-f996-4cb4-8d70-8ceb7fb8c6c1\">\n",
              "    <div class=\"colab-df-container\">\n",
              "      <div>\n",
              "<style scoped>\n",
              "    .dataframe tbody tr th:only-of-type {\n",
              "        vertical-align: middle;\n",
              "    }\n",
              "\n",
              "    .dataframe tbody tr th {\n",
              "        vertical-align: top;\n",
              "    }\n",
              "\n",
              "    .dataframe thead th {\n",
              "        text-align: right;\n",
              "    }\n",
              "</style>\n",
              "<table border=\"1\" class=\"dataframe\">\n",
              "  <thead>\n",
              "    <tr style=\"text-align: right;\">\n",
              "      <th></th>\n",
              "      <th>Recency</th>\n",
              "      <th>Frequency</th>\n",
              "      <th>Monetary</th>\n",
              "      <th>Time</th>\n",
              "    </tr>\n",
              "  </thead>\n",
              "  <tbody>\n",
              "    <tr>\n",
              "      <th>Recency</th>\n",
              "      <td>1.000000</td>\n",
              "      <td>-0.182745</td>\n",
              "      <td>-0.182745</td>\n",
              "      <td>0.160618</td>\n",
              "    </tr>\n",
              "    <tr>\n",
              "      <th>Frequency</th>\n",
              "      <td>-0.182745</td>\n",
              "      <td>1.000000</td>\n",
              "      <td>1.000000</td>\n",
              "      <td>0.634940</td>\n",
              "    </tr>\n",
              "    <tr>\n",
              "      <th>Monetary</th>\n",
              "      <td>-0.182745</td>\n",
              "      <td>1.000000</td>\n",
              "      <td>1.000000</td>\n",
              "      <td>0.634940</td>\n",
              "    </tr>\n",
              "    <tr>\n",
              "      <th>Time</th>\n",
              "      <td>0.160618</td>\n",
              "      <td>0.634940</td>\n",
              "      <td>0.634940</td>\n",
              "      <td>1.000000</td>\n",
              "    </tr>\n",
              "  </tbody>\n",
              "</table>\n",
              "</div>\n",
              "      <button class=\"colab-df-convert\" onclick=\"convertToInteractive('df-8ac3eb33-f996-4cb4-8d70-8ceb7fb8c6c1')\"\n",
              "              title=\"Convert this dataframe to an interactive table.\"\n",
              "              style=\"display:none;\">\n",
              "        \n",
              "  <svg xmlns=\"http://www.w3.org/2000/svg\" height=\"24px\"viewBox=\"0 0 24 24\"\n",
              "       width=\"24px\">\n",
              "    <path d=\"M0 0h24v24H0V0z\" fill=\"none\"/>\n",
              "    <path d=\"M18.56 5.44l.94 2.06.94-2.06 2.06-.94-2.06-.94-.94-2.06-.94 2.06-2.06.94zm-11 1L8.5 8.5l.94-2.06 2.06-.94-2.06-.94L8.5 2.5l-.94 2.06-2.06.94zm10 10l.94 2.06.94-2.06 2.06-.94-2.06-.94-.94-2.06-.94 2.06-2.06.94z\"/><path d=\"M17.41 7.96l-1.37-1.37c-.4-.4-.92-.59-1.43-.59-.52 0-1.04.2-1.43.59L10.3 9.45l-7.72 7.72c-.78.78-.78 2.05 0 2.83L4 21.41c.39.39.9.59 1.41.59.51 0 1.02-.2 1.41-.59l7.78-7.78 2.81-2.81c.8-.78.8-2.07 0-2.86zM5.41 20L4 18.59l7.72-7.72 1.47 1.35L5.41 20z\"/>\n",
              "  </svg>\n",
              "      </button>\n",
              "      \n",
              "  <style>\n",
              "    .colab-df-container {\n",
              "      display:flex;\n",
              "      flex-wrap:wrap;\n",
              "      gap: 12px;\n",
              "    }\n",
              "\n",
              "    .colab-df-convert {\n",
              "      background-color: #E8F0FE;\n",
              "      border: none;\n",
              "      border-radius: 50%;\n",
              "      cursor: pointer;\n",
              "      display: none;\n",
              "      fill: #1967D2;\n",
              "      height: 32px;\n",
              "      padding: 0 0 0 0;\n",
              "      width: 32px;\n",
              "    }\n",
              "\n",
              "    .colab-df-convert:hover {\n",
              "      background-color: #E2EBFA;\n",
              "      box-shadow: 0px 1px 2px rgba(60, 64, 67, 0.3), 0px 1px 3px 1px rgba(60, 64, 67, 0.15);\n",
              "      fill: #174EA6;\n",
              "    }\n",
              "\n",
              "    [theme=dark] .colab-df-convert {\n",
              "      background-color: #3B4455;\n",
              "      fill: #D2E3FC;\n",
              "    }\n",
              "\n",
              "    [theme=dark] .colab-df-convert:hover {\n",
              "      background-color: #434B5C;\n",
              "      box-shadow: 0px 1px 3px 1px rgba(0, 0, 0, 0.15);\n",
              "      filter: drop-shadow(0px 1px 2px rgba(0, 0, 0, 0.3));\n",
              "      fill: #FFFFFF;\n",
              "    }\n",
              "  </style>\n",
              "\n",
              "      <script>\n",
              "        const buttonEl =\n",
              "          document.querySelector('#df-8ac3eb33-f996-4cb4-8d70-8ceb7fb8c6c1 button.colab-df-convert');\n",
              "        buttonEl.style.display =\n",
              "          google.colab.kernel.accessAllowed ? 'block' : 'none';\n",
              "\n",
              "        async function convertToInteractive(key) {\n",
              "          const element = document.querySelector('#df-8ac3eb33-f996-4cb4-8d70-8ceb7fb8c6c1');\n",
              "          const dataTable =\n",
              "            await google.colab.kernel.invokeFunction('convertToInteractive',\n",
              "                                                     [key], {});\n",
              "          if (!dataTable) return;\n",
              "\n",
              "          const docLinkHtml = 'Like what you see? Visit the ' +\n",
              "            '<a target=\"_blank\" href=https://colab.research.google.com/notebooks/data_table.ipynb>data table notebook</a>'\n",
              "            + ' to learn more about interactive tables.';\n",
              "          element.innerHTML = '';\n",
              "          dataTable['output_type'] = 'display_data';\n",
              "          await google.colab.output.renderOutput(dataTable, element);\n",
              "          const docLink = document.createElement('div');\n",
              "          docLink.innerHTML = docLinkHtml;\n",
              "          element.appendChild(docLink);\n",
              "        }\n",
              "      </script>\n",
              "    </div>\n",
              "  </div>\n",
              "  "
            ]
          },
          "metadata": {},
          "execution_count": 385
        }
      ]
    },
    {
      "cell_type": "code",
      "source": [
        "plot.figure(figsize=(8,8))\n",
        "sns.heatmap(corr_matrix, annot = True) #Gráfica de la matriz de correlación."
      ],
      "metadata": {
        "id": "D-Ck541kGBWv",
        "colab": {
          "base_uri": "https://localhost:8080/"
        },
        "outputId": "5b2c5dca-210f-4a54-b71c-062d32cf5c98"
      },
      "execution_count": null,
      "outputs": [
        {
          "output_type": "execute_result",
          "data": {
            "text/plain": [
              "<matplotlib.axes._subplots.AxesSubplot at 0x7f141a7a2430>"
            ]
          },
          "metadata": {},
          "execution_count": 386
        },
        {
          "output_type": "display_data",
          "data": {
            "text/plain": [
              "<Figure size 576x576 with 2 Axes>"
            ],
            "image/png": "[encoded data removed]"
          },
          "metadata": {
            "needs_background": "light"
          }
        }
      ]
    },
    {
      "cell_type": "markdown",
      "source": [
        "En esta matriz se puede verificar que las variables se correlacionan de la siguiente manera:\n",
        "1. Las variables Frequency y Monetary se correlacionan linealmente: el volumen de sangre donado crecerá a mayor número de donaciones. \n",
        "2. A mayor número de donaciones (Frequency) se tendrá que el tiempo que ha transcurrido desde la primera donación (Time) ha aumentado. Sin embargo, se evidencia que la correlación no es muy alta. Una persona que haya donado hace varios años pudo no volver a ejercer esta práctica. \n"
      ],
      "metadata": {
        "id": "avm2_mceGLnv"
      }
    },
    {
      "cell_type": "code",
      "source": [
        "del(data['Monetary_group'])\n",
        "data"
      ],
      "metadata": {
        "colab": {
          "base_uri": "https://localhost:8080/"
        },
        "id": "ogafIgSLJerO",
        "outputId": "230ce3f9-dfd7-4a17-e7f6-6e45539cc3ed"
      },
      "execution_count": null,
      "outputs": [
        {
          "output_type": "execute_result",
          "data": {
            "text/plain": [
              "     Recency  Frequency  Monetary  Time  Donated\n",
              "0          2         50     12500    98     True\n",
              "1          0         13      3250    28     True\n",
              "2          1         16      4000    35     True\n",
              "3          2         20      5000    45     True\n",
              "4          1         24      6000    77    False\n",
              "..       ...        ...       ...   ...      ...\n",
              "743       23          2       500    38    False\n",
              "744       21          2       500    52    False\n",
              "745       23          3       750    62    False\n",
              "746       39          1       250    39    False\n",
              "747       72          1       250    72    False\n",
              "\n",
              "[748 rows x 5 columns]"
            ],
            "text/html": [
              "\n",
              "  <div id=\"df-2e361259-3509-4fa2-a890-64014b7fab1c\">\n",
              "    <div class=\"colab-df-container\">\n",
              "      <div>\n",
              "<style scoped>\n",
              "    .dataframe tbody tr th:only-of-type {\n",
              "        vertical-align: middle;\n",
              "    }\n",
              "\n",
              "    .dataframe tbody tr th {\n",
              "        vertical-align: top;\n",
              "    }\n",
              "\n",
              "    .dataframe thead th {\n",
              "        text-align: right;\n",
              "    }\n",
              "</style>\n",
              "<table border=\"1\" class=\"dataframe\">\n",
              "  <thead>\n",
              "    <tr style=\"text-align: right;\">\n",
              "      <th></th>\n",
              "      <th>Recency</th>\n",
              "      <th>Frequency</th>\n",
              "      <th>Monetary</th>\n",
              "      <th>Time</th>\n",
              "      <th>Donated</th>\n",
              "    </tr>\n",
              "  </thead>\n",
              "  <tbody>\n",
              "    <tr>\n",
              "      <th>0</th>\n",
              "      <td>2</td>\n",
              "      <td>50</td>\n",
              "      <td>12500</td>\n",
              "      <td>98</td>\n",
              "      <td>True</td>\n",
              "    </tr>\n",
              "    <tr>\n",
              "      <th>1</th>\n",
              "      <td>0</td>\n",
              "      <td>13</td>\n",
              "      <td>3250</td>\n",
              "      <td>28</td>\n",
              "      <td>True</td>\n",
              "    </tr>\n",
              "    <tr>\n",
              "      <th>2</th>\n",
              "      <td>1</td>\n",
              "      <td>16</td>\n",
              "      <td>4000</td>\n",
              "      <td>35</td>\n",
              "      <td>True</td>\n",
              "    </tr>\n",
              "    <tr>\n",
              "      <th>3</th>\n",
              "      <td>2</td>\n",
              "      <td>20</td>\n",
              "      <td>5000</td>\n",
              "      <td>45</td>\n",
              "      <td>True</td>\n",
              "    </tr>\n",
              "    <tr>\n",
              "      <th>4</th>\n",
              "      <td>1</td>\n",
              "      <td>24</td>\n",
              "      <td>6000</td>\n",
              "      <td>77</td>\n",
              "      <td>False</td>\n",
              "    </tr>\n",
              "    <tr>\n",
              "      <th>...</th>\n",
              "      <td>...</td>\n",
              "      <td>...</td>\n",
              "      <td>...</td>\n",
              "      <td>...</td>\n",
              "      <td>...</td>\n",
              "    </tr>\n",
              "    <tr>\n",
              "      <th>743</th>\n",
              "      <td>23</td>\n",
              "      <td>2</td>\n",
              "      <td>500</td>\n",
              "      <td>38</td>\n",
              "      <td>False</td>\n",
              "    </tr>\n",
              "    <tr>\n",
              "      <th>744</th>\n",
              "      <td>21</td>\n",
              "      <td>2</td>\n",
              "      <td>500</td>\n",
              "      <td>52</td>\n",
              "      <td>False</td>\n",
              "    </tr>\n",
              "    <tr>\n",
              "      <th>745</th>\n",
              "      <td>23</td>\n",
              "      <td>3</td>\n",
              "      <td>750</td>\n",
              "      <td>62</td>\n",
              "      <td>False</td>\n",
              "    </tr>\n",
              "    <tr>\n",
              "      <th>746</th>\n",
              "      <td>39</td>\n",
              "      <td>1</td>\n",
              "      <td>250</td>\n",
              "      <td>39</td>\n",
              "      <td>False</td>\n",
              "    </tr>\n",
              "    <tr>\n",
              "      <th>747</th>\n",
              "      <td>72</td>\n",
              "      <td>1</td>\n",
              "      <td>250</td>\n",
              "      <td>72</td>\n",
              "      <td>False</td>\n",
              "    </tr>\n",
              "  </tbody>\n",
              "</table>\n",
              "<p>748 rows × 5 columns</p>\n",
              "</div>\n",
              "      <button class=\"colab-df-convert\" onclick=\"convertToInteractive('df-2e361259-3509-4fa2-a890-64014b7fab1c')\"\n",
              "              title=\"Convert this dataframe to an interactive table.\"\n",
              "              style=\"display:none;\">\n",
              "        \n",
              "  <svg xmlns=\"http://www.w3.org/2000/svg\" height=\"24px\"viewBox=\"0 0 24 24\"\n",
              "       width=\"24px\">\n",
              "    <path d=\"M0 0h24v24H0V0z\" fill=\"none\"/>\n",
              "    <path d=\"M18.56 5.44l.94 2.06.94-2.06 2.06-.94-2.06-.94-.94-2.06-.94 2.06-2.06.94zm-11 1L8.5 8.5l.94-2.06 2.06-.94-2.06-.94L8.5 2.5l-.94 2.06-2.06.94zm10 10l.94 2.06.94-2.06 2.06-.94-2.06-.94-.94-2.06-.94 2.06-2.06.94z\"/><path d=\"M17.41 7.96l-1.37-1.37c-.4-.4-.92-.59-1.43-.59-.52 0-1.04.2-1.43.59L10.3 9.45l-7.72 7.72c-.78.78-.78 2.05 0 2.83L4 21.41c.39.39.9.59 1.41.59.51 0 1.02-.2 1.41-.59l7.78-7.78 2.81-2.81c.8-.78.8-2.07 0-2.86zM5.41 20L4 18.59l7.72-7.72 1.47 1.35L5.41 20z\"/>\n",
              "  </svg>\n",
              "      </button>\n",
              "      \n",
              "  <style>\n",
              "    .colab-df-container {\n",
              "      display:flex;\n",
              "      flex-wrap:wrap;\n",
              "      gap: 12px;\n",
              "    }\n",
              "\n",
              "    .colab-df-convert {\n",
              "      background-color: #E8F0FE;\n",
              "      border: none;\n",
              "      border-radius: 50%;\n",
              "      cursor: pointer;\n",
              "      display: none;\n",
              "      fill: #1967D2;\n",
              "      height: 32px;\n",
              "      padding: 0 0 0 0;\n",
              "      width: 32px;\n",
              "    }\n",
              "\n",
              "    .colab-df-convert:hover {\n",
              "      background-color: #E2EBFA;\n",
              "      box-shadow: 0px 1px 2px rgba(60, 64, 67, 0.3), 0px 1px 3px 1px rgba(60, 64, 67, 0.15);\n",
              "      fill: #174EA6;\n",
              "    }\n",
              "\n",
              "    [theme=dark] .colab-df-convert {\n",
              "      background-color: #3B4455;\n",
              "      fill: #D2E3FC;\n",
              "    }\n",
              "\n",
              "    [theme=dark] .colab-df-convert:hover {\n",
              "      background-color: #434B5C;\n",
              "      box-shadow: 0px 1px 3px 1px rgba(0, 0, 0, 0.15);\n",
              "      filter: drop-shadow(0px 1px 2px rgba(0, 0, 0, 0.3));\n",
              "      fill: #FFFFFF;\n",
              "    }\n",
              "  </style>\n",
              "\n",
              "      <script>\n",
              "        const buttonEl =\n",
              "          document.querySelector('#df-2e361259-3509-4fa2-a890-64014b7fab1c button.colab-df-convert');\n",
              "        buttonEl.style.display =\n",
              "          google.colab.kernel.accessAllowed ? 'block' : 'none';\n",
              "\n",
              "        async function convertToInteractive(key) {\n",
              "          const element = document.querySelector('#df-2e361259-3509-4fa2-a890-64014b7fab1c');\n",
              "          const dataTable =\n",
              "            await google.colab.kernel.invokeFunction('convertToInteractive',\n",
              "                                                     [key], {});\n",
              "          if (!dataTable) return;\n",
              "\n",
              "          const docLinkHtml = 'Like what you see? Visit the ' +\n",
              "            '<a target=\"_blank\" href=https://colab.research.google.com/notebooks/data_table.ipynb>data table notebook</a>'\n",
              "            + ' to learn more about interactive tables.';\n",
              "          element.innerHTML = '';\n",
              "          dataTable['output_type'] = 'display_data';\n",
              "          await google.colab.output.renderOutput(dataTable, element);\n",
              "          const docLink = document.createElement('div');\n",
              "          docLink.innerHTML = docLinkHtml;\n",
              "          element.appendChild(docLink);\n",
              "        }\n",
              "      </script>\n",
              "    </div>\n",
              "  </div>\n",
              "  "
            ]
          },
          "metadata": {},
          "execution_count": 387
        }
      ]
    },
    {
      "cell_type": "markdown",
      "source": [
        "Se realiza una partición de los datos, entre datos entrenamiento y datos de prueba para realizar machine learning. "
      ],
      "metadata": {
        "id": "0GpQk9my6Oj1"
      }
    },
    {
      "cell_type": "code",
      "source": [
        "# Importar train_test_split\n",
        "from sklearn.model_selection import train_test_split\n",
        "\n",
        "# Se particionan los datos en los siguientes conjunto de datos\n",
        "# X_train, X_test, y_train and y_test,\n",
        "X_train, X_test, y_train, y_test = train_test_split(\n",
        "    data.drop(columns='Donated'), #Conjunto de datos que entrenan la maquina.\n",
        "    data.Donated, #Conjunto de datos de predicción o variable objetivo\n",
        "    test_size=0.25, #tamaño de los nuevos datos de entrenamiento.\n",
        "    random_state=0, #semilla original\n",
        "    stratify=data.Donated #permite tener en cada categoria nueva la misma proporción de datos que el DataFrame original.\n",
        ") #Arroja cuatro matrices de tipo Numpy dos que hacen parte del entrenamiento X_train y y_train y dos de prueba X_test y y_test\n",
        "\n",
        "# Print out the first 2 rows of X_train\n",
        "X_train.head(100)"
      ],
      "metadata": {
        "colab": {
          "base_uri": "https://localhost:8080/"
        },
        "id": "ESN6v0EIIXw0",
        "outputId": "f0d06673-afad-4ef1-eb76-e8bee4f5eac6"
      },
      "execution_count": null,
      "outputs": [
        {
          "output_type": "execute_result",
          "data": {
            "text/plain": [
              "     Recency  Frequency  Monetary  Time\n",
              "511        2         11      2750    26\n",
              "345       11          1       250    11\n",
              "523        1         10      2500    43\n",
              "273        4          5      1250    58\n",
              "200        4          6      1500    52\n",
              "..       ...        ...       ...   ...\n",
              "140        2          9      2250    74\n",
              "353       11          2       500    21\n",
              "22         2          6      1500    16\n",
              "468       22          1       250    22\n",
              "360       14          6      1500    51\n",
              "\n",
              "[100 rows x 4 columns]"
            ],
            "text/html": [
              "\n",
              "  <div id=\"df-deebfb2e-73ca-4620-8a67-79e75d4e55f1\">\n",
              "    <div class=\"colab-df-container\">\n",
              "      <div>\n",
              "<style scoped>\n",
              "    .dataframe tbody tr th:only-of-type {\n",
              "        vertical-align: middle;\n",
              "    }\n",
              "\n",
              "    .dataframe tbody tr th {\n",
              "        vertical-align: top;\n",
              "    }\n",
              "\n",
              "    .dataframe thead th {\n",
              "        text-align: right;\n",
              "    }\n",
              "</style>\n",
              "<table border=\"1\" class=\"dataframe\">\n",
              "  <thead>\n",
              "    <tr style=\"text-align: right;\">\n",
              "      <th></th>\n",
              "      <th>Recency</th>\n",
              "      <th>Frequency</th>\n",
              "      <th>Monetary</th>\n",
              "      <th>Time</th>\n",
              "    </tr>\n",
              "  </thead>\n",
              "  <tbody>\n",
              "    <tr>\n",
              "      <th>511</th>\n",
              "      <td>2</td>\n",
              "      <td>11</td>\n",
              "      <td>2750</td>\n",
              "      <td>26</td>\n",
              "    </tr>\n",
              "    <tr>\n",
              "      <th>345</th>\n",
              "      <td>11</td>\n",
              "      <td>1</td>\n",
              "      <td>250</td>\n",
              "      <td>11</td>\n",
              "    </tr>\n",
              "    <tr>\n",
              "      <th>523</th>\n",
              "      <td>1</td>\n",
              "      <td>10</td>\n",
              "      <td>2500</td>\n",
              "      <td>43</td>\n",
              "    </tr>\n",
              "    <tr>\n",
              "      <th>273</th>\n",
              "      <td>4</td>\n",
              "      <td>5</td>\n",
              "      <td>1250</td>\n",
              "      <td>58</td>\n",
              "    </tr>\n",
              "    <tr>\n",
              "      <th>200</th>\n",
              "      <td>4</td>\n",
              "      <td>6</td>\n",
              "      <td>1500</td>\n",
              "      <td>52</td>\n",
              "    </tr>\n",
              "    <tr>\n",
              "      <th>...</th>\n",
              "      <td>...</td>\n",
              "      <td>...</td>\n",
              "      <td>...</td>\n",
              "      <td>...</td>\n",
              "    </tr>\n",
              "    <tr>\n",
              "      <th>140</th>\n",
              "      <td>2</td>\n",
              "      <td>9</td>\n",
              "      <td>2250</td>\n",
              "      <td>74</td>\n",
              "    </tr>\n",
              "    <tr>\n",
              "      <th>353</th>\n",
              "      <td>11</td>\n",
              "      <td>2</td>\n",
              "      <td>500</td>\n",
              "      <td>21</td>\n",
              "    </tr>\n",
              "    <tr>\n",
              "      <th>22</th>\n",
              "      <td>2</td>\n",
              "      <td>6</td>\n",
              "      <td>1500</td>\n",
              "      <td>16</td>\n",
              "    </tr>\n",
              "    <tr>\n",
              "      <th>468</th>\n",
              "      <td>22</td>\n",
              "      <td>1</td>\n",
              "      <td>250</td>\n",
              "      <td>22</td>\n",
              "    </tr>\n",
              "    <tr>\n",
              "      <th>360</th>\n",
              "      <td>14</td>\n",
              "      <td>6</td>\n",
              "      <td>1500</td>\n",
              "      <td>51</td>\n",
              "    </tr>\n",
              "  </tbody>\n",
              "</table>\n",
              "<p>100 rows × 4 columns</p>\n",
              "</div>\n",
              "      <button class=\"colab-df-convert\" onclick=\"convertToInteractive('df-deebfb2e-73ca-4620-8a67-79e75d4e55f1')\"\n",
              "              title=\"Convert this dataframe to an interactive table.\"\n",
              "              style=\"display:none;\">\n",
              "        \n",
              "  <svg xmlns=\"http://www.w3.org/2000/svg\" height=\"24px\"viewBox=\"0 0 24 24\"\n",
              "       width=\"24px\">\n",
              "    <path d=\"M0 0h24v24H0V0z\" fill=\"none\"/>\n",
              "    <path d=\"M18.56 5.44l.94 2.06.94-2.06 2.06-.94-2.06-.94-.94-2.06-.94 2.06-2.06.94zm-11 1L8.5 8.5l.94-2.06 2.06-.94-2.06-.94L8.5 2.5l-.94 2.06-2.06.94zm10 10l.94 2.06.94-2.06 2.06-.94-2.06-.94-.94-2.06-.94 2.06-2.06.94z\"/><path d=\"M17.41 7.96l-1.37-1.37c-.4-.4-.92-.59-1.43-.59-.52 0-1.04.2-1.43.59L10.3 9.45l-7.72 7.72c-.78.78-.78 2.05 0 2.83L4 21.41c.39.39.9.59 1.41.59.51 0 1.02-.2 1.41-.59l7.78-7.78 2.81-2.81c.8-.78.8-2.07 0-2.86zM5.41 20L4 18.59l7.72-7.72 1.47 1.35L5.41 20z\"/>\n",
              "  </svg>\n",
              "      </button>\n",
              "      \n",
              "  <style>\n",
              "    .colab-df-container {\n",
              "      display:flex;\n",
              "      flex-wrap:wrap;\n",
              "      gap: 12px;\n",
              "    }\n",
              "\n",
              "    .colab-df-convert {\n",
              "      background-color: #E8F0FE;\n",
              "      border: none;\n",
              "      border-radius: 50%;\n",
              "      cursor: pointer;\n",
              "      display: none;\n",
              "      fill: #1967D2;\n",
              "      height: 32px;\n",
              "      padding: 0 0 0 0;\n",
              "      width: 32px;\n",
              "    }\n",
              "\n",
              "    .colab-df-convert:hover {\n",
              "      background-color: #E2EBFA;\n",
              "      box-shadow: 0px 1px 2px rgba(60, 64, 67, 0.3), 0px 1px 3px 1px rgba(60, 64, 67, 0.15);\n",
              "      fill: #174EA6;\n",
              "    }\n",
              "\n",
              "    [theme=dark] .colab-df-convert {\n",
              "      background-color: #3B4455;\n",
              "      fill: #D2E3FC;\n",
              "    }\n",
              "\n",
              "    [theme=dark] .colab-df-convert:hover {\n",
              "      background-color: #434B5C;\n",
              "      box-shadow: 0px 1px 3px 1px rgba(0, 0, 0, 0.15);\n",
              "      filter: drop-shadow(0px 1px 2px rgba(0, 0, 0, 0.3));\n",
              "      fill: #FFFFFF;\n",
              "    }\n",
              "  </style>\n",
              "\n",
              "      <script>\n",
              "        const buttonEl =\n",
              "          document.querySelector('#df-deebfb2e-73ca-4620-8a67-79e75d4e55f1 button.colab-df-convert');\n",
              "        buttonEl.style.display =\n",
              "          google.colab.kernel.accessAllowed ? 'block' : 'none';\n",
              "\n",
              "        async function convertToInteractive(key) {\n",
              "          const element = document.querySelector('#df-deebfb2e-73ca-4620-8a67-79e75d4e55f1');\n",
              "          const dataTable =\n",
              "            await google.colab.kernel.invokeFunction('convertToInteractive',\n",
              "                                                     [key], {});\n",
              "          if (!dataTable) return;\n",
              "\n",
              "          const docLinkHtml = 'Like what you see? Visit the ' +\n",
              "            '<a target=\"_blank\" href=https://colab.research.google.com/notebooks/data_table.ipynb>data table notebook</a>'\n",
              "            + ' to learn more about interactive tables.';\n",
              "          element.innerHTML = '';\n",
              "          dataTable['output_type'] = 'display_data';\n",
              "          await google.colab.output.renderOutput(dataTable, element);\n",
              "          const docLink = document.createElement('div');\n",
              "          docLink.innerHTML = docLinkHtml;\n",
              "          element.appendChild(docLink);\n",
              "        }\n",
              "      </script>\n",
              "    </div>\n",
              "  </div>\n",
              "  "
            ]
          },
          "metadata": {},
          "execution_count": 388
        }
      ]
    },
    {
      "cell_type": "markdown",
      "source": [
        "#Inferencia Estadística"
      ],
      "metadata": {
        "id": "1DgET_7XWSGL"
      }
    },
    {
      "cell_type": "markdown",
      "source": [
        "Se importan los paquetes que se van a usar. Note que (`!pip install tpot`) no se está ejecutando ya que se debe instalar cada vez que se abra el documento.  Se recomienda realizar los siguientes pasos:\n",
        "1. Quitarlo del entorno #.\n",
        "2. Ejecutar ese segmento de código de paquetes.\n",
        "3. Volver a ponerlo en el entorno #."
      ],
      "metadata": {
        "id": "DjsIgBxgahwK"
      }
    },
    {
      "cell_type": "code",
      "source": [
        "# Paquetes a usar\n",
        "\n",
        "from sklearn.model_selection import train_test_split\n",
        "\n",
        "#!pip install tpot\n",
        "from tpot import TPOTClassifier\n",
        "\n",
        "from sklearn import linear_model\n",
        "\n",
        "from sklearn.metrics import precision_score, accuracy_score, recall_score, f1_score, roc_auc_score\n",
        "from sklearn.metrics import confusion_matrix\n",
        "from sklearn.metrics import ConfusionMatrixDisplay"
      ],
      "metadata": {
        "id": "-pcwFmgMrBAD",
        "colab": {
          "base_uri": "https://localhost:8080/"
        },
        "outputId": "c2a65c7f-70a6-44e2-b413-af9b7b3820c2"
      },
      "execution_count": null,
      "outputs": [
        {
          "output_type": "stream",
          "name": "stdout",
          "text": [
            "Looking in indexes: https://pypi.org/simple, https://us-python.pkg.dev/colab-wheels/public/simple/\n",
            "Requirement already satisfied: tpot in /usr/local/lib/python3.8/dist-packages (0.11.7)\n",
            "Requirement already satisfied: deap>=1.2 in /usr/local/lib/python3.8/dist-packages (from tpot) (1.3.3)\n",
            "Requirement already satisfied: stopit>=1.1.1 in /usr/local/lib/python3.8/dist-packages (from tpot) (1.1.2)\n",
            "Requirement already satisfied: scikit-learn>=0.22.0 in /usr/local/lib/python3.8/dist-packages (from tpot) (1.0.2)\n",
            "Requirement already satisfied: joblib>=0.13.2 in /usr/local/lib/python3.8/dist-packages (from tpot) (1.2.0)\n",
            "Requirement already satisfied: update-checker>=0.16 in /usr/local/lib/python3.8/dist-packages (from tpot) (0.18.0)\n",
            "Requirement already satisfied: scipy>=1.3.1 in /usr/local/lib/python3.8/dist-packages (from tpot) (1.7.3)\n",
            "Requirement already satisfied: xgboost>=1.1.0 in /usr/local/lib/python3.8/dist-packages (from tpot) (1.7.1)\n",
            "Requirement already satisfied: tqdm>=4.36.1 in /usr/local/lib/python3.8/dist-packages (from tpot) (4.64.1)\n",
            "Requirement already satisfied: pandas>=0.24.2 in /usr/local/lib/python3.8/dist-packages (from tpot) (1.3.5)\n",
            "Requirement already satisfied: numpy>=1.16.3 in /usr/local/lib/python3.8/dist-packages (from tpot) (1.21.6)\n",
            "Requirement already satisfied: pytz>=2017.3 in /usr/local/lib/python3.8/dist-packages (from pandas>=0.24.2->tpot) (2022.6)\n",
            "Requirement already satisfied: python-dateutil>=2.7.3 in /usr/local/lib/python3.8/dist-packages (from pandas>=0.24.2->tpot) (2.8.2)\n",
            "Requirement already satisfied: six>=1.5 in /usr/local/lib/python3.8/dist-packages (from python-dateutil>=2.7.3->pandas>=0.24.2->tpot) (1.15.0)\n",
            "Requirement already satisfied: threadpoolctl>=2.0.0 in /usr/local/lib/python3.8/dist-packages (from scikit-learn>=0.22.0->tpot) (3.1.0)\n",
            "Requirement already satisfied: requests>=2.3.0 in /usr/local/lib/python3.8/dist-packages (from update-checker>=0.16->tpot) (2.23.0)\n",
            "Requirement already satisfied: chardet<4,>=3.0.2 in /usr/local/lib/python3.8/dist-packages (from requests>=2.3.0->update-checker>=0.16->tpot) (3.0.4)\n",
            "Requirement already satisfied: certifi>=2017.4.17 in /usr/local/lib/python3.8/dist-packages (from requests>=2.3.0->update-checker>=0.16->tpot) (2022.9.24)\n",
            "Requirement already satisfied: idna<3,>=2.5 in /usr/local/lib/python3.8/dist-packages (from requests>=2.3.0->update-checker>=0.16->tpot) (2.10)\n",
            "Requirement already satisfied: urllib3!=1.25.0,!=1.25.1,<1.26,>=1.21.1 in /usr/local/lib/python3.8/dist-packages (from requests>=2.3.0->update-checker>=0.16->tpot) (1.24.3)\n"
          ]
        }
      ]
    },
    {
      "cell_type": "markdown",
      "source": [
        "Se retoma la variable categórica **Donated** con sus valores:\n",
        "\n",
        "*   **Donated** en vez de 1\n",
        "*   **No Donated** en vez de 0\n",
        "\n",
        "Esto garantiza un buen funcionamiento del paquete **tpot**"
      ],
      "metadata": {
        "id": "90tKW49dcAPm"
      }
    },
    {
      "cell_type": "code",
      "source": [
        "def Cambio(Donated):\n",
        "  if Donated == 0:\n",
        "    return False\n",
        "  else:\n",
        "    return True\n",
        "\n",
        "data.Donated = data.Donated.apply(Cambio)"
      ],
      "metadata": {
        "id": "jgRT3qJHAPCo"
      },
      "execution_count": null,
      "outputs": []
    },
    {
      "cell_type": "code",
      "source": [
        "data.head()"
      ],
      "metadata": {
        "colab": {
          "base_uri": "https://localhost:8080/",
          "height": 206
        },
        "id": "cfQzHLjGSpNi",
        "outputId": "9fd88147-d21c-4ca2-8b98-f171e3f5cc7c"
      },
      "execution_count": null,
      "outputs": [
        {
          "output_type": "execute_result",
          "data": {
            "text/plain": [
              "   Recency  Frequency  Monetary  Time  Donated\n",
              "0        2         50     12500    98     True\n",
              "1        0         13      3250    28     True\n",
              "2        1         16      4000    35     True\n",
              "3        2         20      5000    45     True\n",
              "4        1         24      6000    77    False"
            ],
            "text/html": [
              "\n",
              "  <div id=\"df-19205096-b2c7-49e0-8338-313b7f85c609\">\n",
              "    <div class=\"colab-df-container\">\n",
              "      <div>\n",
              "<style scoped>\n",
              "    .dataframe tbody tr th:only-of-type {\n",
              "        vertical-align: middle;\n",
              "    }\n",
              "\n",
              "    .dataframe tbody tr th {\n",
              "        vertical-align: top;\n",
              "    }\n",
              "\n",
              "    .dataframe thead th {\n",
              "        text-align: right;\n",
              "    }\n",
              "</style>\n",
              "<table border=\"1\" class=\"dataframe\">\n",
              "  <thead>\n",
              "    <tr style=\"text-align: right;\">\n",
              "      <th></th>\n",
              "      <th>Recency</th>\n",
              "      <th>Frequency</th>\n",
              "      <th>Monetary</th>\n",
              "      <th>Time</th>\n",
              "      <th>Donated</th>\n",
              "    </tr>\n",
              "  </thead>\n",
              "  <tbody>\n",
              "    <tr>\n",
              "      <th>0</th>\n",
              "      <td>2</td>\n",
              "      <td>50</td>\n",
              "      <td>12500</td>\n",
              "      <td>98</td>\n",
              "      <td>True</td>\n",
              "    </tr>\n",
              "    <tr>\n",
              "      <th>1</th>\n",
              "      <td>0</td>\n",
              "      <td>13</td>\n",
              "      <td>3250</td>\n",
              "      <td>28</td>\n",
              "      <td>True</td>\n",
              "    </tr>\n",
              "    <tr>\n",
              "      <th>2</th>\n",
              "      <td>1</td>\n",
              "      <td>16</td>\n",
              "      <td>4000</td>\n",
              "      <td>35</td>\n",
              "      <td>True</td>\n",
              "    </tr>\n",
              "    <tr>\n",
              "      <th>3</th>\n",
              "      <td>2</td>\n",
              "      <td>20</td>\n",
              "      <td>5000</td>\n",
              "      <td>45</td>\n",
              "      <td>True</td>\n",
              "    </tr>\n",
              "    <tr>\n",
              "      <th>4</th>\n",
              "      <td>1</td>\n",
              "      <td>24</td>\n",
              "      <td>6000</td>\n",
              "      <td>77</td>\n",
              "      <td>False</td>\n",
              "    </tr>\n",
              "  </tbody>\n",
              "</table>\n",
              "</div>\n",
              "      <button class=\"colab-df-convert\" onclick=\"convertToInteractive('df-19205096-b2c7-49e0-8338-313b7f85c609')\"\n",
              "              title=\"Convert this dataframe to an interactive table.\"\n",
              "              style=\"display:none;\">\n",
              "        \n",
              "  <svg xmlns=\"http://www.w3.org/2000/svg\" height=\"24px\"viewBox=\"0 0 24 24\"\n",
              "       width=\"24px\">\n",
              "    <path d=\"M0 0h24v24H0V0z\" fill=\"none\"/>\n",
              "    <path d=\"M18.56 5.44l.94 2.06.94-2.06 2.06-.94-2.06-.94-.94-2.06-.94 2.06-2.06.94zm-11 1L8.5 8.5l.94-2.06 2.06-.94-2.06-.94L8.5 2.5l-.94 2.06-2.06.94zm10 10l.94 2.06.94-2.06 2.06-.94-2.06-.94-.94-2.06-.94 2.06-2.06.94z\"/><path d=\"M17.41 7.96l-1.37-1.37c-.4-.4-.92-.59-1.43-.59-.52 0-1.04.2-1.43.59L10.3 9.45l-7.72 7.72c-.78.78-.78 2.05 0 2.83L4 21.41c.39.39.9.59 1.41.59.51 0 1.02-.2 1.41-.59l7.78-7.78 2.81-2.81c.8-.78.8-2.07 0-2.86zM5.41 20L4 18.59l7.72-7.72 1.47 1.35L5.41 20z\"/>\n",
              "  </svg>\n",
              "      </button>\n",
              "      \n",
              "  <style>\n",
              "    .colab-df-container {\n",
              "      display:flex;\n",
              "      flex-wrap:wrap;\n",
              "      gap: 12px;\n",
              "    }\n",
              "\n",
              "    .colab-df-convert {\n",
              "      background-color: #E8F0FE;\n",
              "      border: none;\n",
              "      border-radius: 50%;\n",
              "      cursor: pointer;\n",
              "      display: none;\n",
              "      fill: #1967D2;\n",
              "      height: 32px;\n",
              "      padding: 0 0 0 0;\n",
              "      width: 32px;\n",
              "    }\n",
              "\n",
              "    .colab-df-convert:hover {\n",
              "      background-color: #E2EBFA;\n",
              "      box-shadow: 0px 1px 2px rgba(60, 64, 67, 0.3), 0px 1px 3px 1px rgba(60, 64, 67, 0.15);\n",
              "      fill: #174EA6;\n",
              "    }\n",
              "\n",
              "    [theme=dark] .colab-df-convert {\n",
              "      background-color: #3B4455;\n",
              "      fill: #D2E3FC;\n",
              "    }\n",
              "\n",
              "    [theme=dark] .colab-df-convert:hover {\n",
              "      background-color: #434B5C;\n",
              "      box-shadow: 0px 1px 3px 1px rgba(0, 0, 0, 0.15);\n",
              "      filter: drop-shadow(0px 1px 2px rgba(0, 0, 0, 0.3));\n",
              "      fill: #FFFFFF;\n",
              "    }\n",
              "  </style>\n",
              "\n",
              "      <script>\n",
              "        const buttonEl =\n",
              "          document.querySelector('#df-19205096-b2c7-49e0-8338-313b7f85c609 button.colab-df-convert');\n",
              "        buttonEl.style.display =\n",
              "          google.colab.kernel.accessAllowed ? 'block' : 'none';\n",
              "\n",
              "        async function convertToInteractive(key) {\n",
              "          const element = document.querySelector('#df-19205096-b2c7-49e0-8338-313b7f85c609');\n",
              "          const dataTable =\n",
              "            await google.colab.kernel.invokeFunction('convertToInteractive',\n",
              "                                                     [key], {});\n",
              "          if (!dataTable) return;\n",
              "\n",
              "          const docLinkHtml = 'Like what you see? Visit the ' +\n",
              "            '<a target=\"_blank\" href=https://colab.research.google.com/notebooks/data_table.ipynb>data table notebook</a>'\n",
              "            + ' to learn more about interactive tables.';\n",
              "          element.innerHTML = '';\n",
              "          dataTable['output_type'] = 'display_data';\n",
              "          await google.colab.output.renderOutput(dataTable, element);\n",
              "          const docLink = document.createElement('div');\n",
              "          docLink.innerHTML = docLinkHtml;\n",
              "          element.appendChild(docLink);\n",
              "        }\n",
              "      </script>\n",
              "    </div>\n",
              "  </div>\n",
              "  "
            ]
          },
          "metadata": {},
          "execution_count": 391
        }
      ]
    },
    {
      "cell_type": "markdown",
      "source": [
        "Se verifica el porcentaje de cada uno de los valores de la variable **Donated**. Lo que permite concluir:\n",
        "\n",
        "\n",
        "*   El $76\\%$ de la muestra no donaron en marzo del 2007 (**False**).\n",
        "*   El $24\\%$ de la muestra donaron en marzo del 2007 (**True**).  \n",
        "\n",
        "\n",
        "\n",
        "\n"
      ],
      "metadata": {
        "id": "cKkszXVDc1O9"
      }
    },
    {
      "cell_type": "code",
      "source": [
        "# La variable a la cual se le aplicará la predicción es Donated\n",
        "data.Donated.value_counts(normalize = True)"
      ],
      "metadata": {
        "colab": {
          "base_uri": "https://localhost:8080/"
        },
        "id": "HZN7o96ydS8t",
        "outputId": "ee9269d4-14b7-4926-d967-d7c69729fd48"
      },
      "execution_count": null,
      "outputs": [
        {
          "output_type": "execute_result",
          "data": {
            "text/plain": [
              "False    0.762032\n",
              "True     0.237968\n",
              "Name: Donated, dtype: float64"
            ]
          },
          "metadata": {},
          "execution_count": 392
        }
      ]
    },
    {
      "cell_type": "markdown",
      "source": [
        "Se particionan los datos de la muestra. Una parte para entrenar el modelo (**X_train** y **y_train**) y otra para evaluar su rendimiento (**X_test** y **y_test**) respetando la distribución de la variable **Donated**.\n"
      ],
      "metadata": {
        "id": "YBDsX4A6fYcL"
      }
    },
    {
      "cell_type": "code",
      "source": [
        "# Dividiremos los datos en datos de entranamiento (train) y datos de prueba (test)\n",
        "\n",
        "X_train, X_test, y_train, y_test = train_test_split(\n",
        "    data.drop(columns='Donated'),              #La base de datos omitiendo la columna Donated.\n",
        "    data.Donated,                              #La variable objetivo.\n",
        "    test_size=0.25,                            #Indica que se mantega el 25% de los datos en los datos de prueba.\n",
        "    random_state=42,                           #Fija una semilla para generar números aleatorios.\n",
        "    stratify=data.Donated                      #Genera los bloques de entrenamiento y de prueba\n",
        "                                               #preservando el porcentaje de los datos de la muestra \n",
        "                                               #original con base a la variable Donated. \n",
        ")"
      ],
      "metadata": {
        "id": "2x-GfYCxdvtm"
      },
      "execution_count": null,
      "outputs": []
    },
    {
      "cell_type": "markdown",
      "source": [
        "Se verifica que la partición del conjunto de datos de la variable a predecir mantenga el porcentaje."
      ],
      "metadata": {
        "id": "r5BiWD8YhTLT"
      }
    },
    {
      "cell_type": "code",
      "source": [
        "#Casos de entrenamiento\n",
        "y_train.value_counts(normalize = True)"
      ],
      "metadata": {
        "colab": {
          "base_uri": "https://localhost:8080/"
        },
        "id": "sYr8KkvBfded",
        "outputId": "6aeb3d85-fd7e-4941-b99f-8591b71b5ab8"
      },
      "execution_count": null,
      "outputs": [
        {
          "output_type": "execute_result",
          "data": {
            "text/plain": [
              "False    0.761141\n",
              "True     0.238859\n",
              "Name: Donated, dtype: float64"
            ]
          },
          "metadata": {},
          "execution_count": 394
        }
      ]
    },
    {
      "cell_type": "code",
      "source": [
        "#Casos de prueba\n",
        "y_test.value_counts(normalize = True)"
      ],
      "metadata": {
        "colab": {
          "base_uri": "https://localhost:8080/"
        },
        "id": "Fhs3F_uMgAah",
        "outputId": "22fe820c-511f-4b9d-8f28-45146e63dfe3"
      },
      "execution_count": null,
      "outputs": [
        {
          "output_type": "execute_result",
          "data": {
            "text/plain": [
              "False    0.764706\n",
              "True     0.235294\n",
              "Name: Donated, dtype: float64"
            ]
          },
          "metadata": {},
          "execution_count": 395
        }
      ]
    },
    {
      "cell_type": "markdown",
      "source": [
        "Se puede notar que los datos divididos tienen dos diferentes estructuras."
      ],
      "metadata": {
        "id": "n7nAkD7siQsx"
      }
    },
    {
      "cell_type": "code",
      "source": [
        "# Identificamos que tipo de datos son X_train/X_test y y_train/y_test\n",
        "print(\" X_test tiene estructura de \", type(X_test), \"\\n\", \"y_train tiene estructura de \", type(y_train))"
      ],
      "metadata": {
        "colab": {
          "base_uri": "https://localhost:8080/"
        },
        "id": "hnqfL9qugIN3",
        "outputId": "0c95558e-df3a-44c2-e0ea-bddc14aecf91"
      },
      "execution_count": null,
      "outputs": [
        {
          "output_type": "stream",
          "name": "stdout",
          "text": [
            " X_test tiene estructura de  <class 'pandas.core.frame.DataFrame'> \n",
            " y_train tiene estructura de  <class 'pandas.core.series.Series'>\n"
          ]
        }
      ]
    },
    {
      "cell_type": "markdown",
      "source": [
        "Ahora, se hará uso de la librería `TPOT`; un asistente virtual que brindará el  mejor modelo para predecir los datos."
      ],
      "metadata": {
        "id": "TzHaWMKcimjr"
      }
    },
    {
      "cell_type": "code",
      "source": [
        "# Se ajusta TPOT\n",
        "\n",
        "tpot = TPOTClassifier(\n",
        "    generations = 1,\n",
        "    population_size = 20,\n",
        "    verbosity = 1,\n",
        "    random_state = 42,\n",
        "    scoring = \"roc_auc\",\n",
        "    disable_update_check = True,\n",
        "    config_dict = \"TPOT light\"\n",
        ")"
      ],
      "metadata": {
        "id": "3TTGgMr_hdp-"
      },
      "execution_count": null,
      "outputs": []
    },
    {
      "cell_type": "code",
      "source": [
        "#Se entrena el TPOT\n",
        "\n",
        "tpot.fit(X_train, y_train);\n",
        "\n",
        "print('\\nMejor modelo:', end='\\n')\n",
        "for idx, (name, transform) in enumerate(tpot.fitted_pipeline_.steps, start=1):\n",
        "    # Print idx and transform\n",
        "    print(f'{idx}. {transform}')"
      ],
      "metadata": {
        "colab": {
          "base_uri": "https://localhost:8080/"
        },
        "id": "b7Zuyc0xFaqh",
        "outputId": "ff5d2dbf-c832-4c99-9b34-ff38222ddd69"
      },
      "execution_count": null,
      "outputs": [
        {
          "output_type": "stream",
          "name": "stdout",
          "text": [
            "Best pipeline: LogisticRegression(input_matrix, C=25.0, dual=False, penalty=l2)\n",
            "\n",
            "Mejor modelo:\n",
            "1. LogisticRegression(C=25.0, random_state=42)\n"
          ]
        }
      ]
    },
    {
      "cell_type": "markdown",
      "source": [
        "## Regresión logística sin normalizar"
      ],
      "metadata": {
        "id": "okmat3ICBcRt"
      }
    },
    {
      "cell_type": "markdown",
      "source": [
        "Se hace uso de la *regresión logística* sugerida por `tpot` y se entrena dicho modelo.\n",
        " "
      ],
      "metadata": {
        "id": "tyIqx3-GjvGl"
      }
    },
    {
      "cell_type": "code",
      "source": [
        "# Regresion logística\n",
        "logreg =  linear_model.LogisticRegression(\n",
        "    C = 0.1,\n",
        "    solver='liblinear',\n",
        "    random_state=42       \n",
        ")\n",
        "\n",
        "# Se entrena  el modelo\n",
        "logreg.fit(X_train, y_train);"
      ],
      "metadata": {
        "id": "UigKjt4YBbjE"
      },
      "execution_count": null,
      "outputs": []
    },
    {
      "cell_type": "markdown",
      "source": [
        "Es de interés conocer la influencia de cada una de las variables independientes (*Recency*, *Frecuency*, *Monetary* y *Time*) sobre la variable dependiente (*Donated*). "
      ],
      "metadata": {
        "id": "AUk4dp4bmRnA"
      }
    },
    {
      "cell_type": "code",
      "source": [
        "# Los coeficientes de la regresión logística, permitirán conocer como afecta el cambio en  las variables independientes a la varieble donated.\n",
        "log_odds = logreg.coef_\n",
        "odds = np.exp(log_odds)\n",
        "\n",
        "coef= pd.concat([pd.DataFrame(X_train.columns),pd.DataFrame(np.transpose(odds))], axis = 1)\n",
        "coef"
      ],
      "metadata": {
        "colab": {
          "base_uri": "https://localhost:8080/",
          "height": 175
        },
        "id": "GuhM44lex82G",
        "outputId": "7c73ad79-4264-4980-bbb9-97dc64af5d71"
      },
      "execution_count": null,
      "outputs": [
        {
          "output_type": "execute_result",
          "data": {
            "text/plain": [
              "           0         0\n",
              "0    Recency  0.907765\n",
              "1  Frequency  1.000002\n",
              "2   Monetary  1.000500\n",
              "3       Time  0.976883"
            ],
            "text/html": [
              "\n",
              "  <div id=\"df-44396cee-0e8a-46e0-9397-9d5e58fa1d94\">\n",
              "    <div class=\"colab-df-container\">\n",
              "      <div>\n",
              "<style scoped>\n",
              "    .dataframe tbody tr th:only-of-type {\n",
              "        vertical-align: middle;\n",
              "    }\n",
              "\n",
              "    .dataframe tbody tr th {\n",
              "        vertical-align: top;\n",
              "    }\n",
              "\n",
              "    .dataframe thead th {\n",
              "        text-align: right;\n",
              "    }\n",
              "</style>\n",
              "<table border=\"1\" class=\"dataframe\">\n",
              "  <thead>\n",
              "    <tr style=\"text-align: right;\">\n",
              "      <th></th>\n",
              "      <th>0</th>\n",
              "      <th>0</th>\n",
              "    </tr>\n",
              "  </thead>\n",
              "  <tbody>\n",
              "    <tr>\n",
              "      <th>0</th>\n",
              "      <td>Recency</td>\n",
              "      <td>0.907765</td>\n",
              "    </tr>\n",
              "    <tr>\n",
              "      <th>1</th>\n",
              "      <td>Frequency</td>\n",
              "      <td>1.000002</td>\n",
              "    </tr>\n",
              "    <tr>\n",
              "      <th>2</th>\n",
              "      <td>Monetary</td>\n",
              "      <td>1.000500</td>\n",
              "    </tr>\n",
              "    <tr>\n",
              "      <th>3</th>\n",
              "      <td>Time</td>\n",
              "      <td>0.976883</td>\n",
              "    </tr>\n",
              "  </tbody>\n",
              "</table>\n",
              "</div>\n",
              "      <button class=\"colab-df-convert\" onclick=\"convertToInteractive('df-44396cee-0e8a-46e0-9397-9d5e58fa1d94')\"\n",
              "              title=\"Convert this dataframe to an interactive table.\"\n",
              "              style=\"display:none;\">\n",
              "        \n",
              "  <svg xmlns=\"http://www.w3.org/2000/svg\" height=\"24px\"viewBox=\"0 0 24 24\"\n",
              "       width=\"24px\">\n",
              "    <path d=\"M0 0h24v24H0V0z\" fill=\"none\"/>\n",
              "    <path d=\"M18.56 5.44l.94 2.06.94-2.06 2.06-.94-2.06-.94-.94-2.06-.94 2.06-2.06.94zm-11 1L8.5 8.5l.94-2.06 2.06-.94-2.06-.94L8.5 2.5l-.94 2.06-2.06.94zm10 10l.94 2.06.94-2.06 2.06-.94-2.06-.94-.94-2.06-.94 2.06-2.06.94z\"/><path d=\"M17.41 7.96l-1.37-1.37c-.4-.4-.92-.59-1.43-.59-.52 0-1.04.2-1.43.59L10.3 9.45l-7.72 7.72c-.78.78-.78 2.05 0 2.83L4 21.41c.39.39.9.59 1.41.59.51 0 1.02-.2 1.41-.59l7.78-7.78 2.81-2.81c.8-.78.8-2.07 0-2.86zM5.41 20L4 18.59l7.72-7.72 1.47 1.35L5.41 20z\"/>\n",
              "  </svg>\n",
              "      </button>\n",
              "      \n",
              "  <style>\n",
              "    .colab-df-container {\n",
              "      display:flex;\n",
              "      flex-wrap:wrap;\n",
              "      gap: 12px;\n",
              "    }\n",
              "\n",
              "    .colab-df-convert {\n",
              "      background-color: #E8F0FE;\n",
              "      border: none;\n",
              "      border-radius: 50%;\n",
              "      cursor: pointer;\n",
              "      display: none;\n",
              "      fill: #1967D2;\n",
              "      height: 32px;\n",
              "      padding: 0 0 0 0;\n",
              "      width: 32px;\n",
              "    }\n",
              "\n",
              "    .colab-df-convert:hover {\n",
              "      background-color: #E2EBFA;\n",
              "      box-shadow: 0px 1px 2px rgba(60, 64, 67, 0.3), 0px 1px 3px 1px rgba(60, 64, 67, 0.15);\n",
              "      fill: #174EA6;\n",
              "    }\n",
              "\n",
              "    [theme=dark] .colab-df-convert {\n",
              "      background-color: #3B4455;\n",
              "      fill: #D2E3FC;\n",
              "    }\n",
              "\n",
              "    [theme=dark] .colab-df-convert:hover {\n",
              "      background-color: #434B5C;\n",
              "      box-shadow: 0px 1px 3px 1px rgba(0, 0, 0, 0.15);\n",
              "      filter: drop-shadow(0px 1px 2px rgba(0, 0, 0, 0.3));\n",
              "      fill: #FFFFFF;\n",
              "    }\n",
              "  </style>\n",
              "\n",
              "      <script>\n",
              "        const buttonEl =\n",
              "          document.querySelector('#df-44396cee-0e8a-46e0-9397-9d5e58fa1d94 button.colab-df-convert');\n",
              "        buttonEl.style.display =\n",
              "          google.colab.kernel.accessAllowed ? 'block' : 'none';\n",
              "\n",
              "        async function convertToInteractive(key) {\n",
              "          const element = document.querySelector('#df-44396cee-0e8a-46e0-9397-9d5e58fa1d94');\n",
              "          const dataTable =\n",
              "            await google.colab.kernel.invokeFunction('convertToInteractive',\n",
              "                                                     [key], {});\n",
              "          if (!dataTable) return;\n",
              "\n",
              "          const docLinkHtml = 'Like what you see? Visit the ' +\n",
              "            '<a target=\"_blank\" href=https://colab.research.google.com/notebooks/data_table.ipynb>data table notebook</a>'\n",
              "            + ' to learn more about interactive tables.';\n",
              "          element.innerHTML = '';\n",
              "          dataTable['output_type'] = 'display_data';\n",
              "          await google.colab.output.renderOutput(dataTable, element);\n",
              "          const docLink = document.createElement('div');\n",
              "          docLink.innerHTML = docLinkHtml;\n",
              "          element.appendChild(docLink);\n",
              "        }\n",
              "      </script>\n",
              "    </div>\n",
              "  </div>\n",
              "  "
            ]
          },
          "metadata": {},
          "execution_count": 400
        }
      ]
    },
    {
      "cell_type": "markdown",
      "source": [
        "Observese que cada uno de los coeficentes de la regresión logística se aproximan a $1$, esto implica que todas las variables influyen de la misma manera en el comportamiento del modelo.\n",
        "\n",
        "\n",
        "\n",
        "\n",
        "\n",
        "\n"
      ],
      "metadata": {
        "id": "5FNSaYWX6kQe"
      }
    },
    {
      "cell_type": "markdown",
      "source": [
        "Se realiza la predicción de los datos y se evalua los resultados obtenidos a través de la matríz de confusión."
      ],
      "metadata": {
        "id": "EPagkzylk-rb"
      }
    },
    {
      "cell_type": "code",
      "source": [
        "# Prediccion de datos\n",
        "y_pred = logreg.predict(X_test)\n",
        "y_predp = logreg.predict_proba(X_test)"
      ],
      "metadata": {
        "id": "RTX2ryyRC6JF"
      },
      "execution_count": null,
      "outputs": []
    },
    {
      "cell_type": "code",
      "source": [
        "# Matriz de Confusión\n",
        "mc = confusion_matrix(y_test, y_pred)\n",
        "ConfusionMatrixDisplay(mc).plot(cmap = 'binary')"
      ],
      "metadata": {
        "colab": {
          "base_uri": "https://localhost:8080/",
          "height": 300
        },
        "id": "CObxBwIYFH1K",
        "outputId": "0c952fb8-c888-46d9-f86a-2bb2ac59cd31"
      },
      "execution_count": null,
      "outputs": [
        {
          "output_type": "execute_result",
          "data": {
            "text/plain": [
              "<sklearn.metrics._plot.confusion_matrix.ConfusionMatrixDisplay at 0x7f1419928e50>"
            ]
          },
          "metadata": {},
          "execution_count": 402
        },
        {
          "output_type": "display_data",
          "data": {
            "text/plain": [
              "<Figure size 432x288 with 2 Axes>"
            ],
            "image/png": "[encoded data removed]"
          },
          "metadata": {
            "needs_background": "light"
          }
        }
      ]
    },
    {
      "cell_type": "markdown",
      "source": [
        "Con los resultados de la matriz de confusión se concluye que en el modelo de regresión logística se obtuvo:\n",
        "\n",
        "* 140  de las predicciones son verdaderos negativos.\n",
        "* 5 de de las predecciones son verdaderos positivos.   \n",
        "* 3 de las predecciones son falsos positivos.  \n",
        "* 39 de las predecciones son falsos negativos. \n",
        "\n"
      ],
      "metadata": {
        "id": "SKEPv_QjnrL8"
      }
    },
    {
      "cell_type": "code",
      "source": [
        "# Buena Predicción\n",
        "\n",
        "print(\"Puntajes Regresión Logistica sin normalizar \\n\")\n",
        "print(\"Precisión:\", precision_score(y_test, y_pred, average = None).round(3))\n",
        "print(\"Exactitud:\", accuracy_score(y_test, y_pred).round(3))\n",
        "print(\"Sensibilidad:\", recall_score(y_test, y_pred, average = None).round(3))\n",
        "print(\"Puntaje AUC:\", roc_auc_score(y_test, y_predp[:,1]).round(4))"
      ],
      "metadata": {
        "colab": {
          "base_uri": "https://localhost:8080/"
        },
        "id": "L8wkY0ukuuZ1",
        "outputId": "1102d97a-1bab-47bf-e3c2-b6465cfa34da"
      },
      "execution_count": null,
      "outputs": [
        {
          "output_type": "stream",
          "name": "stdout",
          "text": [
            "Puntajes Regresion Logistica sin normalizar \n",
            "\n",
            "Precision: [0.782 0.625]\n",
            "Exactitud: 0.775\n",
            "Sensibilidad: [0.979 0.114]\n",
            "Puntaje AUC: 0.7859\n"
          ]
        }
      ]
    },
    {
      "cell_type": "markdown",
      "source": [
        "Del informe de las métricas del modelo se afirma lo siguiente: \n",
        "\n",
        "\n",
        "*   **Precisión:** El modelo clasifica el $78.2.5\\%$ de los datos correspondientes a **True** y el $62.5\\%$  de los datos correspondientes a **False** correctamente.\n",
        "*   **Exactitud:**  El modelo clasifica el $77.5\\%$ de los datos correctamente.\n",
        "*   **Sensibilidad:** El modelo clasifica el $97.9\\%$ de los datos como **True** y el $11.4\\%$  de los datos como **False**.\n",
        "*   **Puntaje AUC:** Hay un $78.6\\%$ de probabilidad que el modelo pueda distinguir entre **True** y **False**.\n",
        "\n",
        "\n"
      ],
      "metadata": {
        "id": "0yFPDhxSqBXK"
      }
    },
    {
      "cell_type": "markdown",
      "source": [
        "## Regresión Logística Normalizando"
      ],
      "metadata": {
        "id": "AosiWW_dGXkU"
      }
    },
    {
      "cell_type": "markdown",
      "source": [
        "Con el fin de mejorar la capacidad de predecir del modelo, se verifica que al comparar los datos se tenga un comportamiento lineal. La varianza de las variables independientes sean igualmente comparables."
      ],
      "metadata": {
        "id": "q_KXEPR0xtcp"
      }
    },
    {
      "cell_type": "code",
      "source": [
        "X_train.var().round(3)"
      ],
      "metadata": {
        "colab": {
          "base_uri": "https://localhost:8080/"
        },
        "id": "RV3Y789vHY2Q",
        "outputId": "30c156cc-da39-4531-97d9-0e9667bf4715"
      },
      "execution_count": null,
      "outputs": [
        {
          "output_type": "execute_result",
          "data": {
            "text/plain": [
              "Recency           66.929\n",
              "Frequency         33.830\n",
              "Monetary     2114363.700\n",
              "Time             611.147\n",
              "dtype: float64"
            ]
          },
          "metadata": {},
          "execution_count": 404
        }
      ]
    },
    {
      "cell_type": "code",
      "source": [
        "X_test.var().round(3)"
      ],
      "metadata": {
        "colab": {
          "base_uri": "https://localhost:8080/"
        },
        "id": "sYr-LbyPHuGl",
        "outputId": "83dfbbe5-cc73-418f-f328-a55bed96a61b"
      },
      "execution_count": null,
      "outputs": [
        {
          "output_type": "execute_result",
          "data": {
            "text/plain": [
              "Recency           61.692\n",
              "Frequency         34.887\n",
              "Monetary     2180416.595\n",
              "Time             533.939\n",
              "dtype: float64"
            ]
          },
          "metadata": {},
          "execution_count": 405
        }
      ]
    },
    {
      "cell_type": "markdown",
      "source": [
        "Se observa que la variable **Monetary** en el conjunto de datos tiene una variación alta, esto podría afectar la capacidad del modelo para aprender de otras variables. Es por ello que se realiza una normalización logarítmica a la variable (Monetary)."
      ],
      "metadata": {
        "id": "71nF-fS70db-"
      }
    },
    {
      "cell_type": "code",
      "source": [
        "# Copiar los datos a normalizar\n",
        "\n",
        "X_train_normed, X_test_normed = X_train.copy(), X_test.copy()\n",
        "\n",
        "# Especificar columna a normalizar\n",
        "\n",
        "col_to_normalize = \"Monetary\"\n",
        "\n",
        "# Normalización Logarítmica\n",
        "\n",
        "for df_ in [X_train_normed, X_test_normed]:\n",
        "    # Agregar variable normalizada\n",
        "    df_[\"MonetaryLog\"] = np.log(df_[col_to_normalize])\n",
        "    # Quitar variable no normalizada\n",
        "    df_.drop(columns=col_to_normalize, inplace=True)"
      ],
      "metadata": {
        "id": "r4hkIIr6H8sL"
      },
      "execution_count": null,
      "outputs": []
    },
    {
      "cell_type": "markdown",
      "source": [
        "Se verifica nuevamente las varianzas. Notando que estas tienen el mismo orden de magnitud. Lo anterior implica que todas las variables independientes sean igual de importantes para el modelo."
      ],
      "metadata": {
        "id": "Nhueps1g1ei8"
      }
    },
    {
      "cell_type": "code",
      "source": [
        "X_train_normed.var().round(3)"
      ],
      "metadata": {
        "colab": {
          "base_uri": "https://localhost:8080/"
        },
        "id": "3VPkwnaQINHi",
        "outputId": "d1be0669-4616-4b81-bcc7-45c2adfb647a"
      },
      "execution_count": null,
      "outputs": [
        {
          "output_type": "execute_result",
          "data": {
            "text/plain": [
              "Recency         66.929\n",
              "Frequency       33.830\n",
              "Time           611.147\n",
              "MonetaryLog      0.837\n",
              "dtype: float64"
            ]
          },
          "metadata": {},
          "execution_count": 407
        }
      ]
    },
    {
      "cell_type": "code",
      "source": [
        "X_test_normed.var().round(3)"
      ],
      "metadata": {
        "colab": {
          "base_uri": "https://localhost:8080/"
        },
        "id": "aH-5Q_jXIUX4",
        "outputId": "d33f83a1-13fe-4c42-aea9-c56f3742bfba"
      },
      "execution_count": null,
      "outputs": [
        {
          "output_type": "execute_result",
          "data": {
            "text/plain": [
              "Recency         61.692\n",
              "Frequency       34.887\n",
              "Time           533.939\n",
              "MonetaryLog      0.828\n",
              "dtype: float64"
            ]
          },
          "metadata": {},
          "execution_count": 408
        }
      ]
    },
    {
      "cell_type": "code",
      "source": [
        "# Regresión Logística\n",
        "\n",
        "logreg2 =  linear_model.LogisticRegression(\n",
        "    C = 0.1,\n",
        "    solver='liblinear',\n",
        "    random_state=42\n",
        ")\n",
        "\n",
        "# Entrenar el modelo\n",
        "\n",
        "logreg2.fit(X_train_normed, y_train);"
      ],
      "metadata": {
        "id": "9K7Jq_xNIaOk"
      },
      "execution_count": null,
      "outputs": []
    },
    {
      "cell_type": "code",
      "source": [
        "y_pred2 = logreg2.predict(X_test_normed)\n",
        "y_pred2p = logreg2.predict_proba(X_test_normed)"
      ],
      "metadata": {
        "id": "g-uAujKSI1EV"
      },
      "execution_count": null,
      "outputs": []
    },
    {
      "cell_type": "code",
      "source": [
        "mc2 = confusion_matrix(y_test, y_pred2)\n",
        "ConfusionMatrixDisplay(mc2).plot(cmap = 'binary')\n"
      ],
      "metadata": {
        "colab": {
          "base_uri": "https://localhost:8080/",
          "height": 300
        },
        "id": "wyiRa1xoLLTz",
        "outputId": "0c384b29-5a3c-464c-aa03-c6528a9359c1"
      },
      "execution_count": null,
      "outputs": [
        {
          "output_type": "execute_result",
          "data": {
            "text/plain": [
              "<sklearn.metrics._plot.confusion_matrix.ConfusionMatrixDisplay at 0x7f141a0c20d0>"
            ]
          },
          "metadata": {},
          "execution_count": 411
        },
        {
          "output_type": "display_data",
          "data": {
            "text/plain": [
              "<Figure size 432x288 with 2 Axes>"
            ],
            "image/png": "[encoded data removed]"
          },
          "metadata": {
            "needs_background": "light"
          }
        }
      ]
    },
    {
      "cell_type": "markdown",
      "source": [
        "Con los resultados de la matriz de confusión se concluye que en el modelo de regresión logística se obtuvo:\n",
        "\n",
        "* 140  de las predicciones son verdaderos negativos.\n",
        "* 4 de de las predecciones son verdaderos positivos.   \n",
        "* 3 de las predecciones son falsos positivos.  \n",
        "* 40 de las predecciones son falsos negativos. \n",
        "\n"
      ],
      "metadata": {
        "id": "1NnkCgBrpTPu"
      }
    },
    {
      "cell_type": "code",
      "source": [
        "# Buena Predicción\n",
        "\n",
        "print(\"Puntajes regresión logística normalizando \\n\")\n",
        "print(\"Precisión:\", precision_score(y_test, y_pred2, average = None).round(3))\n",
        "print(\"Exactitud:\", accuracy_score(y_test, y_pred2).round(3))\n",
        "print(\"Sensibilidad:\", recall_score(y_test, y_pred2, average = None).round(3))\n",
        "print(\"Puntaje AUC:\", roc_auc_score(y_test, y_pred2p[:,1]).round(3))"
      ],
      "metadata": {
        "colab": {
          "base_uri": "https://localhost:8080/"
        },
        "id": "OviqR9cY2Jn0",
        "outputId": "a54319b5-c83f-4983-aedb-77f9ed5d60cf"
      },
      "execution_count": null,
      "outputs": [
        {
          "output_type": "stream",
          "name": "stdout",
          "text": [
            "Puntajes Regresion Logistica normalizando \n",
            "\n",
            "Presicion: [0.778 0.571]\n",
            "Exactitud: 0.77\n",
            "Sensibilidad: [0.979 0.091]\n",
            "Puntaje AUC: 0.787\n"
          ]
        }
      ]
    },
    {
      "cell_type": "markdown",
      "source": [
        "Del informe de las métricas del modelo se afirma lo siguiente: \n",
        "\n",
        "\n",
        "*   **Precisión:** El modelo clasifica el $77.8\\%$ de los datos correspondientes a **True** y el $57.1\\%$  de los datos correspondientes a **False** correctamente.\n",
        "*   **Exactitud:**  El modelo clasifica el $77\\%$ de los datos correctamente.\n",
        "*   **Sensibilidad:** El modelo clasifica el $97.9\\%$ de los datos como **True** y el $9.1\\%$  de los datos como **False**.\n",
        "*   **Puntaje AUC:** Hay un $78.7\\%$ de probabilidad que el modelo pueda distinguir entre **True** y **False**.\n",
        "\n",
        "\n"
      ],
      "metadata": {
        "id": "kmBO07ub2-U7"
      }
    },
    {
      "cell_type": "markdown",
      "source": [
        "## Conclusiones"
      ],
      "metadata": {
        "id": "7d3VHV3lvSUg"
      }
    },
    {
      "cell_type": "markdown",
      "source": [
        "A través de la regresión logística sugerida por `TPOT` se logró construir un modelo de predección con un puntaje de **AUC=** $0.785$. Aunque este puntaje es muy bueno se realizó una normalización de los datos, dando así un nuevo modelo con un puntaje **AUC=** $0.787$. El incremento es pequeño, pero es de suma importancia si se desea mejorar la capacidad de predección del modelo.\n",
        "\n",
        "De igual manera en el desarrollo del documento se evidencia que cada variable independiente influye notablemente en el comportamiento de la variable objetivo (**Donated**).\n",
        "\n"
      ],
      "metadata": {
        "id": "sdLGBwQ45Iwv"
      }
    }
  ],
  "metadata": {
    "colab": {
      "collapsed_sections": [
        "47hixA4RC5R2",
        "1zWlN0Qm9LC1",
        "WNXaCeZs9fvN",
        "4kCWIwYr7SYt",
        "VkJ2UJnF9SvS",
        "hguWH32r3pKs",
        "XanRJHNZ6ZC2",
        "r7qnq9gyymQZ",
        "C5Lcool2GCEf"
      ],
      "provenance": []
    },
    "kernelspec": {
      "display_name": "Python 3",
      "name": "python3"
    },
    "language_info": {
      "name": "python"
    }
  },
  "nbformat": 4,
  "nbformat_minor": 0
}